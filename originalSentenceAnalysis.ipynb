{
 "cells": [
  {
   "cell_type": "code",
   "execution_count": 3,
   "metadata": {},
   "outputs": [],
   "source": [
    "# !pip3 install seaborn"
   ]
  },
  {
   "cell_type": "code",
   "execution_count": 5,
   "metadata": {},
   "outputs": [
    {
     "name": "stdout",
     "output_type": "stream",
     "text": [
      "Defaulting to user installation because normal site-packages is not writeable\n",
      "Collecting neuroblu_postgres\n",
      "  Cloning ssh://****@github.com/Holmusk/neuroblu_postgres.git (to revision v1.0.2) to /tmp/pip-install-o5ncl79w/neuroblu-postgres_94561d8641ae449fb1f37d4d54ffbc45\n",
      "  Running command git clone --filter=blob:none --quiet 'ssh://****@github.com/Holmusk/neuroblu_postgres.git' /tmp/pip-install-o5ncl79w/neuroblu-postgres_94561d8641ae449fb1f37d4d54ffbc45\n",
      "  Running command git checkout -q 9aab64d14ea0c60821a42d068c863855cc85c8fc\n",
      "  Resolved ssh://****@github.com/Holmusk/neuroblu_postgres.git to commit 9aab64d14ea0c60821a42d068c863855cc85c8fc\n",
      "  Installing build dependencies ... \u001b[?25ldone\n",
      "\u001b[?25h  Getting requirements to build wheel ... \u001b[?25ldone\n",
      "\u001b[?25h  Preparing metadata (pyproject.toml) ... \u001b[?25ldone\n",
      "\u001b[?25hBuilding wheels for collected packages: neuroblu_postgres\n",
      "  Building wheel for neuroblu_postgres (pyproject.toml) ... \u001b[?25ldone\n",
      "\u001b[?25h  Created wheel for neuroblu_postgres: filename=neuroblu_postgres-1.0.2-py2.py3-none-any.whl size=37464 sha256=4781394b5b3cec1703af0d501eef79654e4b657d1f0f15d2d6f39475db87e347\n",
      "  Stored in directory: /tmp/pip-ephem-wheel-cache-j0mjqc2m/wheels/03/a8/fc/1e70990708a46116460b1625a7df873afc2fca92170e63e365\n",
      "Successfully built neuroblu_postgres\n",
      "Installing collected packages: neuroblu_postgres\n",
      "Successfully installed neuroblu_postgres-1.0.2\n",
      "Defaulting to user installation because normal site-packages is not writeable\n",
      "Collecting psycopg2-binary\n",
      "  Using cached psycopg2_binary-2.9.3-cp38-cp38-manylinux_2_17_x86_64.manylinux2014_x86_64.whl (3.0 MB)\n",
      "Installing collected packages: psycopg2-binary\n",
      "Successfully installed psycopg2-binary-2.9.3\n",
      "Defaulting to user installation because normal site-packages is not writeable\n",
      "Collecting statsmodels\n",
      "  Downloading statsmodels-0.13.2-cp38-cp38-manylinux_2_17_x86_64.manylinux2014_x86_64.whl (9.9 MB)\n",
      "\u001b[2K     \u001b[90m━━━━━━━━━━━━━━━━━━━━━━━━━━━━━━━━━━━━━━━━\u001b[0m \u001b[32m9.9/9.9 MB\u001b[0m \u001b[31m141.5 MB/s\u001b[0m eta \u001b[36m0:00:00\u001b[0m00:01\u001b[0m00:01\u001b[0m\n",
      "\u001b[?25hRequirement already satisfied: numpy>=1.17 in /home/ubuntu/.local/lib/python3.8/site-packages (from statsmodels) (1.19.5)\n",
      "Collecting patsy>=0.5.2\n",
      "  Downloading patsy-0.5.2-py2.py3-none-any.whl (233 kB)\n",
      "\u001b[2K     \u001b[90m━━━━━━━━━━━━━━━━━━━━━━━━━━━━━━━━━━━━━━\u001b[0m \u001b[32m233.7/233.7 KB\u001b[0m \u001b[31m14.2 MB/s\u001b[0m eta \u001b[36m0:00:00\u001b[0m\n",
      "\u001b[?25hRequirement already satisfied: pandas>=0.25 in /home/ubuntu/.local/lib/python3.8/site-packages (from statsmodels) (1.4.0)\n",
      "Requirement already satisfied: scipy>=1.3 in /home/ubuntu/.local/lib/python3.8/site-packages (from statsmodels) (1.9.0)\n",
      "Requirement already satisfied: packaging>=21.3 in /home/ubuntu/.local/lib/python3.8/site-packages (from statsmodels) (21.3)\n",
      "Requirement already satisfied: pyparsing!=3.0.5,>=2.0.2 in /home/ubuntu/.local/lib/python3.8/site-packages (from packaging>=21.3->statsmodels) (3.0.8)\n",
      "Requirement already satisfied: python-dateutil>=2.8.1 in /home/ubuntu/.local/lib/python3.8/site-packages (from pandas>=0.25->statsmodels) (2.8.2)\n",
      "Requirement already satisfied: pytz>=2020.1 in /home/ubuntu/.local/lib/python3.8/site-packages (from pandas>=0.25->statsmodels) (2022.1)\n",
      "Requirement already satisfied: six in /usr/lib/python3/dist-packages (from patsy>=0.5.2->statsmodels) (1.11.0)\n",
      "Installing collected packages: patsy, statsmodels\n",
      "Successfully installed patsy-0.5.2 statsmodels-0.13.2\n",
      "Defaulting to user installation because normal site-packages is not writeable\n",
      "Collecting Tacos\n",
      "  Cloning https://github.com/lsmoriginal/Tacos.git to /tmp/pip-install-_sxrbvwb/tacos_1c117e4f9c6b4724ade3f8cfa61611d7\n",
      "  Running command git clone --filter=blob:none --quiet https://github.com/lsmoriginal/Tacos.git /tmp/pip-install-_sxrbvwb/tacos_1c117e4f9c6b4724ade3f8cfa61611d7\n",
      "  Resolved https://github.com/lsmoriginal/Tacos.git to commit 54d5023cca95f224e7f5e53070754cea96105a26\n",
      "  Preparing metadata (setup.py) ... \u001b[?25ldone\n",
      "\u001b[?25hRequirement already satisfied: Pillow<=8.3.1 in /home/ubuntu/.local/lib/python3.8/site-packages (from Tacos) (8.3.1)\n",
      "Requirement already satisfied: Pandas in /home/ubuntu/.local/lib/python3.8/site-packages (from Tacos) (1.4.0)\n",
      "Requirement already satisfied: pytz in /home/ubuntu/.local/lib/python3.8/site-packages (from Tacos) (2022.1)\n",
      "Requirement already satisfied: pyyaml in /home/ubuntu/.local/lib/python3.8/site-packages (from Tacos) (6.0)\n",
      "Requirement already satisfied: numpy>=1.18.5 in /home/ubuntu/.local/lib/python3.8/site-packages (from Pandas->Tacos) (1.19.5)\n",
      "Requirement already satisfied: python-dateutil>=2.8.1 in /home/ubuntu/.local/lib/python3.8/site-packages (from Pandas->Tacos) (2.8.2)\n",
      "Requirement already satisfied: six>=1.5 in /usr/lib/python3/dist-packages (from python-dateutil>=2.8.1->Pandas->Tacos) (1.11.0)\n"
     ]
    }
   ],
   "source": [
    "!pip3 install git+ssh://git@github.com/Holmusk/neuroblu_postgres.git@v1.0.2#egg=neuroblu_postgres\n",
    "!pip3 install psycopg2-binary\n",
    "!pip3 install statsmodels\n",
    "!pip3 install git+https://github.com/lsmoriginal/Tacos.git#egg=Tacos"
   ]
  },
  {
   "cell_type": "code",
   "execution_count": 1,
   "metadata": {},
   "outputs": [],
   "source": [
    "import pandas as pd\n",
    "import seaborn as sns\n",
    "\n",
    "from itertools import chain\n",
    "from pathlib import Path\n",
    "\n",
    "import re\n",
    "\n",
    "import os\n",
    "os.environ[\"DB_PATH\"]='../../db.json'\n",
    "from neuroblu_postgres.databaseIO import pgIO"
   ]
  },
  {
   "cell_type": "markdown",
   "metadata": {},
   "source": [
    "# Distribution of the current tokens"
   ]
  },
  {
   "cell_type": "code",
   "execution_count": 2,
   "metadata": {},
   "outputs": [],
   "source": [
    "# about 1min for 11Million rows\n",
    "tokenCountFrSourceDbDfPath = Path('tokenCountFrSourceDbDf.csv')\n",
    "\n",
    "if not tokenCountFrSourceDbDfPath.exists():\n",
    "    tokenCountFrSourceDb = pgIO.getDataIterator(\n",
    "        query=f'''\n",
    "        SELECT \n",
    "            sentences.database, \n",
    "            sentences.sentence, \n",
    "            sentences.n_token\n",
    "        FROM v1_nlp.sentences\n",
    "        ; \n",
    "        ''',\n",
    "        dbName='NLP_CDM',\n",
    "        chunks=10000,\n",
    "    )\n",
    "    alldata = chain(*tokenCountFrSourceDb)\n",
    "\n",
    "    tokenCountFrSourceDbDf = pd.DataFrame(\n",
    "        alldata,\n",
    "        columns=['database','sentence', 'n_token'],\n",
    "    )\n",
    "    tokenCountFrSourceDbDf.to_csv(\n",
    "        tokenCountFrSourceDbDfPath,\n",
    "        index=False\n",
    "    )\n",
    "else:\n",
    "    tokenCountFrSourceDbDf = pd.read_csv(\n",
    "        tokenCountFrSourceDbDfPath,\n",
    "    )"
   ]
  },
  {
   "cell_type": "code",
   "execution_count": 3,
   "metadata": {},
   "outputs": [
    {
     "data": {
      "text/plain": [
       "(11535536, 3)"
      ]
     },
     "execution_count": 3,
     "metadata": {},
     "output_type": "execute_result"
    }
   ],
   "source": [
    "tokenCountFrSourceDbDf.shape\n",
    "# 11 Million sentences"
   ]
  },
  {
   "cell_type": "code",
   "execution_count": 4,
   "metadata": {},
   "outputs": [
    {
     "data": {
      "text/plain": [
       "<AxesSubplot:xlabel='n_token', ylabel='Count'>"
      ]
     },
     "execution_count": 4,
     "metadata": {},
     "output_type": "execute_result"
    },
    {
     "data": {
      "image/png": "[encoded data removed]",
      "text/plain": [
       "<Figure size 432x288 with 1 Axes>"
      ]
     },
     "metadata": {
      "needs_background": "light"
     },
     "output_type": "display_data"
    }
   ],
   "source": [
    "sns.histplot(\n",
    "    data=tokenCountFrSourceDbDf.sample(10000),\n",
    "    x='n_token',\n",
    "    hue='database',\n",
    ")"
   ]
  },
  {
   "cell_type": "code",
   "execution_count": 33,
   "metadata": {},
   "outputs": [
    {
     "data": {
      "text/plain": [
       "<AxesSubplot:xlabel='database', ylabel='n_token'>"
      ]
     },
     "execution_count": 33,
     "metadata": {},
     "output_type": "execute_result"
    },
    {
     "data": {
      "image/png": "[encoded data removed]",
      "text/plain": [
       "<Figure size 432x288 with 1 Axes>"
      ]
     },
     "metadata": {
      "needs_background": "light"
     },
     "output_type": "display_data"
    }
   ],
   "source": [
    "sns.boxplot(\n",
    "    data=tokenCountFrSourceDbDf,\n",
    "    y='n_token',\n",
    "    x='database'\n",
    ")"
   ]
  },
  {
   "cell_type": "markdown",
   "metadata": {},
   "source": [
    "Harris center is the worst in terms of sentence tokenizing."
   ]
  },
  {
   "cell_type": "code",
   "execution_count": 9,
   "metadata": {},
   "outputs": [
    {
     "data": {
      "text/html": [
       "<div>\n",
       "<style scoped>\n",
       "    .dataframe tbody tr th:only-of-type {\n",
       "        vertical-align: middle;\n",
       "    }\n",
       "\n",
       "    .dataframe tbody tr th {\n",
       "        vertical-align: top;\n",
       "    }\n",
       "\n",
       "    .dataframe thead th {\n",
       "        text-align: right;\n",
       "    }\n",
       "</style>\n",
       "<table border=\"1\" class=\"dataframe\">\n",
       "  <thead>\n",
       "    <tr style=\"text-align: right;\">\n",
       "      <th></th>\n",
       "      <th>database</th>\n",
       "      <th>sentence</th>\n",
       "      <th>n_token</th>\n",
       "    </tr>\n",
       "  </thead>\n",
       "  <tbody>\n",
       "    <tr>\n",
       "      <th>3825824</th>\n",
       "      <td>shaip</td>\n",
       "      <td>upon challenging her, it takes a significant a...</td>\n",
       "      <td>211</td>\n",
       "    </tr>\n",
       "    <tr>\n",
       "      <th>3897103</th>\n",
       "      <td>shaip</td>\n",
       "      <td>since he had already paid his money, he to thi...</td>\n",
       "      <td>197</td>\n",
       "    </tr>\n",
       "    <tr>\n",
       "      <th>3967719</th>\n",
       "      <td>shaip</td>\n",
       "      <td>the patient was last discharged range of motio...</td>\n",
       "      <td>158</td>\n",
       "    </tr>\n",
       "    <tr>\n",
       "      <th>3967763</th>\n",
       "      <td>shaip</td>\n",
       "      <td>he has to maintain a gpa of 3.2 to stay in his...</td>\n",
       "      <td>153</td>\n",
       "    </tr>\n",
       "    <tr>\n",
       "      <th>4852292</th>\n",
       "      <td>shaip</td>\n",
       "      <td>i am going to continue the same medications at...</td>\n",
       "      <td>164</td>\n",
       "    </tr>\n",
       "  </tbody>\n",
       "</table>\n",
       "</div>"
      ],
      "text/plain": [
       "        database                                           sentence  n_token\n",
       "3825824    shaip  upon challenging her, it takes a significant a...      211\n",
       "3897103    shaip  since he had already paid his money, he to thi...      197\n",
       "3967719    shaip  the patient was last discharged range of motio...      158\n",
       "3967763    shaip  he has to maintain a gpa of 3.2 to stay in his...      153\n",
       "4852292    shaip  i am going to continue the same medications at...      164"
      ]
     },
     "execution_count": 9,
     "metadata": {},
     "output_type": "execute_result"
    }
   ],
   "source": [
    "shaipLongSent = tokenCountFrSourceDbDf[(tokenCountFrSourceDbDf.database=='shaip') & (tokenCountFrSourceDbDf.n_token >=150)]\n",
    "shaipLongSent.head()"
   ]
  },
  {
   "cell_type": "markdown",
   "metadata": {},
   "source": [
    "# Why does thc has such ridiculously long sentences"
   ]
  },
  {
   "cell_type": "markdown",
   "metadata": {},
   "source": [
    "* \\\\n next line chars \n",
    "* \\r\\n repetitions -> most probably point forms\n",
    "* ____________ underscores  "
   ]
  },
  {
   "cell_type": "code",
   "execution_count": 10,
   "metadata": {},
   "outputs": [
    {
     "data": {
      "text/plain": [
       "'INPERSON VISIT NOT AVAILBLE FOR REASON OF Covid 19, today\\'s routine follow up appointment was conducted via telephone\\r\\nthe client consented to a telephone appointment\\r\\nhe reports taking his medication daily as prescribed\\r\\nall medication is working well\\r\\nhis mood is stable\\r\\nhe denies mood swings and depression\\r\\nhe denies AVH, delusions and paranoia\\r\\nappetite and sleep pattern are intact\\r\\nenergy level and motivation are good\\r\\nthe current medication regimen is effective and there are no side effects\\r\\nhe denies SI/HI or any thought of harm to self or others\\r\\n\\r\\nhe has a transfer appointment scheduled for [DATE_5]\\r\\nhe has requested to begin therapy and counseling \\r\\nhe will begin therapy once transferred out of New START, as New START does not provide therapy\\r\\nhe is aware of this plan and agrees\\r\\n\\r\\n______________________________________________________________________________________\\r\\nINPERSON VISIT NOT AVAILBLE FOR REASON OF Covid 19, today\\'s routine follow up appointment was conducted via telephone\\r\\nthe client consented to a telephone appointment\\r\\n\\r\\ndaughter was hospitalizaed due to mental illness \\r\\nshe has been home now for about 2 days\\r\\nher meds were changed and she is doing better\\r\\nthe client reports that he was not doing well when his daughter was in the hospital\\r\\nhe felt highly anxious and mildly depressed while his daughter was hospitalized\\r\\nhe reports doing well now\\r\\nhe no longer feels depressed\\r\\nanxiety has resolved\\r\\nhis mood is stable\\r\\nhe denies AVH, delusions and paranoia\\r\\nhe sleeps \"pretty good since she\\'s been home\"\\r\\nappetite is good\\r\\nenergy level and motivation are good\\r\\nhe denies drug and alcohol use\\r\\n\\r\\nhe denies SI/HI or any thought of harm to self or others\\r\\n\\r\\nthe current medication regimen is effective and there are no side effects\\r\\n___________________________________________________________________________________\\r\\ndue to current agency protocol regarding Covid 19 safety precautions, today\\'s follow up visit was conducted via telephone\\r\\nthe client says he has been doing well\\r\\ndepression and all mood symptoms have been well managed\\r\\nhe denies feeling depressed\\r\\nhe denies AVH, delusions and paranoia\\r\\nhigh anxiety remains as issue however, he says the medication calms him well\\r\\nthe current medication regimen is effective and there are no side effects\\r\\nhe denies SI/HI or any thoughts of harm to self or others\\r\\n__________________________________________________________________________________\\r\\nhe reports that he is taking all medication daily as pre'"
      ]
     },
     "execution_count": 10,
     "metadata": {},
     "output_type": "execute_result"
    }
   ],
   "source": [
    "sampleLongText=tokenCountFrSourceDbDf[(tokenCountFrSourceDbDf.database=='thc') & (tokenCountFrSourceDbDf.n_token >=1750)].sentence[2274188]\n",
    "sampleLongText[:2500]"
   ]
  },
  {
   "cell_type": "code",
   "execution_count": 1,
   "metadata": {},
   "outputs": [
    {
     "name": "stdout",
     "output_type": "stream",
     "text": [
      "/usr/bin/python: No module named spacy\n",
      "/usr/bin/python: No module named spacy\n"
     ]
    }
   ],
   "source": [
    "# !pip3 install spacy==3.2.4\n",
    "# !pip3 install https://s3-us-west-2.amazonaws.com/ai2-s2-scispacy/releases/v0.5.0/en_core_sci_scibert-0.5.0.tar.gz\n",
    "!python -m spacy download en_core_web_trf\n",
    "!python -m spacy download en_core_web_sm"
   ]
  },
  {
   "cell_type": "code",
   "execution_count": 2,
   "metadata": {},
   "outputs": [],
   "source": [
    "\n",
    "import spacy\n",
    "nlp=spacy.load(\"en_core_sci_scibert\")\n",
    "doc = nlp(\"input text\")\n",
    "cleaned_data=list(item.text for item in doc.sents)"
   ]
  },
  {
   "cell_type": "code",
   "execution_count": 16,
   "metadata": {},
   "outputs": [],
   "source": [
    "# breaking a long sentences takes 11secs\n",
    "doc = nlp(sampleLongText)\n",
    "cleaned_data_en_core_sci_scibert=list(item.text for item in doc.sents)"
   ]
  },
  {
   "cell_type": "code",
   "execution_count": 17,
   "metadata": {},
   "outputs": [
    {
     "data": {
      "text/plain": [
       "'INPERSON VISIT NOT AVAILBLE FOR REASON OF Covid 19, today\\'s routine follow up appointment was conducted via telephone\\r\\nthe client consented to a telephone appointment\\r\\nhe reports taking his medication daily as prescribed\\r\\nall medication is working well\\r\\nhis mood is stable\\r\\nhe denies mood swings and depression\\r\\nhe denies AVH, delusions and paranoia\\r\\nappetite and sleep pattern are intact\\r\\nenergy level and motivation are good\\r\\nthe current medication regimen is effective and there are no side effects\\r\\nhe denies SI/HI or any thought of harm to self or others\\r\\n\\r\\nhe has a transfer appointment scheduled for [DATE_5]\\r\\nhe has requested to begin therapy and counseling \\r\\nhe will begin therapy once transferred out of New START, as New START does not provide therapy\\r\\nhe is aware of this plan and agrees\\r\\n\\r\\n \\n \\r\\nINPERSON VISIT NOT AVAILBLE FOR REASON OF Covid 19, today\\'s routine follow up appointment was conducted via telephone\\r\\nthe client consented to a telephone appointment\\r\\n\\r\\ndaughter was hospitalizaed due to mental illness \\r\\nshe has been home now for about 2 days\\r\\nher meds were changed and she is doing better\\r\\nthe client reports that he was not doing well when his daughter was in the hospital\\r\\nhe felt highly anxious and mildly depressed while his daughter was hospitalized\\r\\nhe reports doing well now\\r\\nhe no longer feels depressed\\r\\nanxiety has resolved\\r\\nhis mood is stable\\r\\nhe denies AVH, delusions and paranoia\\r\\nhe sleeps \"pretty good since she\\'s been home\"\\r\\nappetite is good\\r\\nenergy level and motivation are good\\r\\nhe denies drug and alcohol use\\r\\n\\r\\nhe denies SI/HI or any thought of harm to self or others\\r\\n\\r\\nthe current medication regimen is effective and there are no side effects\\r\\n \\n \\r\\ndue to current agency protocol regarding Covid 19 safety precautions, today\\'s follow up visit was conducted via telephone\\r\\nthe client says he has been doing well\\r\\ndepression and all mood symptoms have been well managed\\r\\nhe denies feeling depressed\\r\\nhe denies AVH, delusions and paranoia\\r\\nhigh anxiety remains as issue however, he says the medication calms him well\\r\\nthe current medication regimen is effective and there are no side effects\\r\\nhe denies SI/HI or any thoughts of harm to self or others\\r\\n \\n \\r\\nhe reports that he is taking all medication daily as prescribed\\r\\nhis depressive and anxiety symptoms have improved\\r\\nhe no longer feels depressed\\r\\nanixtey comes and goes but is well managed\\r\\nhe continues to experience AH which he says have always been there and \"will never go away\"\\r\\nhe denies AVH today\\r\\nhe denies command or persucatory voices\\r\\n he eats and sleeps well\\r\\nmood is stable\\r\\nhe denies feeling paranoid or delusional and there is no evidence that he is paranoid or delusional today\\r\\nhe denies SI/HI or any thought  of harm to self or others\\r\\n\\r\\nhe confirms that Nurse [NAME_2] phoned him and informed him re his abnormal lab results\\r\\nhe has a gold card but has not followed up with his PCP\\r\\ni discussed with him all lab results and the possible risks if he does not see his PCP for treatment\\r\\nhe says \" i\\'ll make an appointment\"\\r\\n\\r\\n\\r\\n \\n \\r\\nhe reports feeling higly anxious over the holidays\\r\\nhe has a small house and had numerous family members over\\r\\nhe has 7 children and 2 grandchildren and a host of siblings, neices and nephews who all came for the holidays\\r\\nhe had difficulty calming his anxiety and says he still struggles everyday with anxiety\\r\\nHydroxyzine helps, but not significantly\\r\\nhe says Propranolol helps to calm his night time anxiety\\r\\n\\r\\nhe feels depressed\\r\\n\" �\\'ve been hearing the voices too\"\\r\\nhe says the holidays trigger his symptoms because he misses his mom who passed away \"some years back\"\\r\\nhe rates his depression a 6 on a 1-10 scale where 1 is mild depression and 10 is severe\\r\\nhe denies any thought of harm to self or others\\r\\n\\r\\nhe has trouble falling asleep and staying asleep\\r\\n\" i take cat naps all night\"\\r\\nsleep is of poor quality\\r\\nhe hears voices talking about his mom\\r\\nvoices tell him he should have been a better child\\r\\nhe denies VH, delusions and paranoia\\r\\nappetite is good\\r\\nenergy level is good\\r\\nhe denies drug and alcohol use\\r\\n\\r\\nthis client would benefit from therapy and counseling for symptom recognition and  help in learning to manage daily responsibilities; assistance in developing and strengthening coping skills, social skills\\r\\ni discussed with the client the need for therapy and he agrees\\r\\n\\r\\nwill increase Hydroxyzine today to calm anxiety and will increase Remeron to help with sleep and depression\\r\\n\\r\\nhe denies SI/HI\\r\\n\\r\\n \\n \\r\\nhe says \"i\\'m doing so goog\"\\r\\n\"hearing the voices but not as much\"\\r\\nhe denies command or persucatory voices \\r\\nhe denies VH\\r\\nhe says his anxiety is well controlled\\r\\nwhen asked if he feels depressed, he responds, \"not really, no\"\\r\\nhe denies mood swings, anger and aggression\\r\\nhe deneis any mood issues at all\\r\\n\\r\\nhe denies psychosis and delusions\\r\\n\\r\\n\\r\\nhe denies drug and alcohol use\\r\\nsays he has been clean since he got out of CRU\\r\\n[DATE_2] UDS is + for Cannabinoids but he endorses that he is clean now and no longer using\\r\\nhe denies drug cravings\\r\\nhe reports going to AA atleast 3 times weekly which he says is helpful\\r\\n\\r\\nhe is sleeping a full 8 hours\\r\\n\"these medications are helping me sleep\"\\r\\n\\r\\nhe says things with his daughter have improved\\r\\nshe is now taking Seroquel and she has been stable\\r\\nthe client reports that he is doing better now that his stress level and worry re his daughter have decreased\\r\\n he denies thoughts of suicide\\r\\nhe denies SI/HI\\r\\n \\n \\r\\n[NAME_3] arrives today after discharge from [LOCATION_2] on [DATE_6]\\r\\nhe reports that he went to [LOCATION_3] in September 2019 bceause he was suicidal with plan to \"die by cop\"\\r\\nand he was depressed and experiencing mood swings\\r\\nhe says he was then transferred to [LOCATION_4] and then to [LOCATION_2] where he stayed for 14 days\\r\\nhe was discharged from [LOCATION_2] on [DATE_6]\\r\\nhe is now taking Risperdal, Hydroxyzine, Propranolol and Remeron which he says works well without side effects\\r\\n\\r\\nhis mood is stable\\r\\nhe is no longer suicidal\\r\\ndepression comes and goes but is improving\\r\\non his worse day he rates depression 8 or 9 on a 1-10 scale\\r\\nwhere 1= little depression and 10 is severe depression\\r\\nhe says on a good day like today, he rates the depression a 3-4\\r\\n\\r\\nhe says AVH are not improving\\r\\nhe hears voices and sees his dead friends everyday\\r\\nvoices are persucatory and derogatory\\r\\nenergy level has been good\\r\\nhe focuses well\\r\\nhe sleeps well without Benadryl\\r\\n\\r\\nhe admits to cocaine and THC use prior to going to [LOCATION_5] in September but says he has been clean and sober for almost a month\\r\\nhe had been clean and sober for 2 years before this relapse\\r\\nhe says the stresses at home with his mentally ill daughter caused him to relapse\\r\\nhe denies use now and denies cravings\\r\\n\\r\\nwill increase Risperdal per his request, for better management of AVH\\r\\nwill also refer to outpatient rehab to assist him in staying clean\\r\\n\\r\\nhe denies SI/HI or any thoughts of harm to self or others\\r\\n\\r\\n\\r\\n\\r\\n\\r\\n \\n \\r\\npatient says he is doing well overall\\r\\nhe feels down some days related to his daughter\\'s mental health issues\\r\\nhe says his daughter has been manic and has had meds changed to stabilize her\\r\\nhe worries about his daughter and feels \"down and out\"\\r\\nbut says he does have more good days than bad days\\r\\nhe denies major depression or any thoughts of self harm\\r\\nhe denies AVH\\r\\nhe is sleeping well\\r\\nhe reports that he relapsed one time a few weeks ago on THC due to the stresses with his daughter\\r\\nhe says his PO is aware\\r\\nhe denies any other drug or alcohol use and says he is committed to staying clean\\r\\n\\r\\nhe denies SI/HI or any thoughts of harm to self or others\\r\\nthe current medication regimen is effective and there are no side effects\\r\\n\\r\\n \\n \\r\\npatient says he is doing much better\\r\\nhe is no longer depressed\\r\\nhis mood is stable\\r\\nhe denies mood swings, anger  and rages\\r\\nhe continues to expreience AVH every 2 days or so but AVH occur less often\\r\\nhe denies command or persucatory voices\\r\\nhe continues to experience nightmares every night but they are less intense\\r\\nhe requests an increase in Prazosin stating he has noticed small improvent since he started taking it\\r\\n\\r\\nhe eats well\\r\\nsays he does get enough sleep , even with the night mares\\r\\nhe denies SI/HI or any thoughts of harm to self or others\\r\\n\\r\\npatient is stable and doing well overall on the current med regimen and he denies any side effects\\r\\n\\r\\n \\n \\r\\n[DATE_7]\\r\\nthis is a 39 yr old Hispanic male\\r\\nhe reports that he became suicidal this past weekend\\r\\nvoices were out of control\\r\\nvoices were louder tahn usual\\r\\n telling him that his daughter\\'s mental issues are his fault\\r\\ntelling him to kill self \"by cop\"\\r\\nwhich means do somthing that will cause the police to shoot him\\r\\nhe went to NPC on [DATE_8]\\r\\nNPC was full and could not accept him\\r\\nhe then went to [LOCATION_6]\\r\\nhe was there a  few days and then released\\r\\nAbilify was increased to 10mg 3 tablets\\r\\nwhich he is taking now\\r\\nhe says he no longer hears the voices and is no longer suicidal\\r\\nhe is no longer depressed \\r\\nsays he is thinking more clearly and logically\\r\\nsays he is soing much better emotionally\\r\\n\\r\\nhe was taking Trazodone 50mg but still not sleeping\\r\\nhas trouble falling and staying asleep\\r\\nhe increased to 2 tablets (100mg) which has worked better\\r\\nhe has nightmares when he does sleep so sleeps only 2-3 hours \\r\\nhe is sleeping better but still experiencing nightmares\\r\\n\\r\\nhe has night mares of his daughter cutting and killing herself\\r\\n[NAME_4] sent him home with a paper Rx for Prazosin which he brought in today\\r\\nhe did not fill yet\\r\\nrequetsed that I fill today\\r\\n\\r\\nwill have him D/C Trazodone while taking Prazosin to avoid med interaction/priapism\\r\\nwill have him begin Prazosin before bed time  to help with sleep/nightmares\\r\\nwill also have him decrease Propranolol to once daily in the am instead of BID\\r\\nso as not to affect his BP while taking Prazosin\\r\\n\\r\\ni educated him re all medications including Prazosin for nightmares \\r\\nand Propranolol which he takes for anxiety\\r\\ni instructed him not to take Prazosin and Propranolol together\\r\\ntake Propranolol in the am\\r\\nand Prazosin at night\\r\\nand to monitor his BP daily\\r\\nhe knows to call with any questions, concerns or side effects\\r\\n\\r\\nwill conttinue to monitor him closely for efficacy and side effetcs\\r\\n\\r\\nhe denies SI/HI or any thoughts of harm to self or others\\r\\nhe has no plan or intent to harm himself \\r\\nhe assures me that he would  not harm himself because he loves his family too much\\r\\n\\r\\n\\r\\n[DATE_9]\\r\\nThis 39-yr-old HM was seen today in f/u for the following:\\r\\n1.'"
      ]
     },
     "execution_count": 17,
     "metadata": {},
     "output_type": "execute_result"
    }
   ],
   "source": [
    "re.sub(\"_{3,}\", ' \\n ', sampleLongText)"
   ]
  },
  {
   "cell_type": "code",
   "execution_count": 18,
   "metadata": {},
   "outputs": [],
   "source": [
    "doc = nlp(re.sub(\"_{3,}\", ' \\n ', sampleLongText))\n",
    "cleaned_data_en_core_sci_scibert_removed_us__=list(item.text for item in doc.sents)"
   ]
  },
  {
   "cell_type": "markdown",
   "metadata": {},
   "source": [
    "Using web_trf"
   ]
  },
  {
   "cell_type": "code",
   "execution_count": null,
   "metadata": {},
   "outputs": [],
   "source": [
    "en_core_web_trf = spacy.load(\"en_core_web_trf\")"
   ]
  },
  {
   "cell_type": "code",
   "execution_count": null,
   "metadata": {},
   "outputs": [],
   "source": [
    "doc = en_core_web_trf(sampleLongText)\n",
    "cleaned_data_en_core_web_trf=list(item.text for item in doc.sents)"
   ]
  },
  {
   "cell_type": "code",
   "execution_count": null,
   "metadata": {},
   "outputs": [],
   "source": [
    "en_core_web_sm = spacy.load(\"en_core_web_sm\")"
   ]
  },
  {
   "cell_type": "code",
   "execution_count": null,
   "metadata": {},
   "outputs": [],
   "source": [
    "doc = en_core_web_sm(sampleLongText)\n",
    "cleaned_data_en_core_web_sm=list(item.text for item in doc.sents)"
   ]
  },
  {
   "cell_type": "markdown",
   "metadata": {},
   "source": [
    "## View other long notes"
   ]
  },
  {
   "cell_type": "code",
   "execution_count": 12,
   "metadata": {},
   "outputs": [
    {
     "data": {
      "text/html": [
       "<div>\n",
       "<style scoped>\n",
       "    .dataframe tbody tr th:only-of-type {\n",
       "        vertical-align: middle;\n",
       "    }\n",
       "\n",
       "    .dataframe tbody tr th {\n",
       "        vertical-align: top;\n",
       "    }\n",
       "\n",
       "    .dataframe thead th {\n",
       "        text-align: right;\n",
       "    }\n",
       "</style>\n",
       "<table border=\"1\" class=\"dataframe\">\n",
       "  <thead>\n",
       "    <tr style=\"text-align: right;\">\n",
       "      <th></th>\n",
       "      <th>database</th>\n",
       "      <th>sentence</th>\n",
       "      <th>n_token</th>\n",
       "    </tr>\n",
       "  </thead>\n",
       "  <tbody>\n",
       "    <tr>\n",
       "      <th>1381267</th>\n",
       "      <td>thc</td>\n",
       "      <td>PT has been doing ok most days; PT has been mo...</td>\n",
       "      <td>1104</td>\n",
       "    </tr>\n",
       "    <tr>\n",
       "      <th>1666541</th>\n",
       "      <td>thc</td>\n",
       "      <td>36 yr old AAM , living with his son's mother a...</td>\n",
       "      <td>1014</td>\n",
       "    </tr>\n",
       "    <tr>\n",
       "      <th>1673296</th>\n",
       "      <td>thc</td>\n",
       "      <td>Does go shopping and out with a friend once a ...</td>\n",
       "      <td>1096</td>\n",
       "    </tr>\n",
       "    <tr>\n",
       "      <th>1742450</th>\n",
       "      <td>thc</td>\n",
       "      <td>\"; \\r\\nPT states she is sleeping ok and that s...</td>\n",
       "      <td>1037</td>\n",
       "    </tr>\n",
       "    <tr>\n",
       "      <th>1848235</th>\n",
       "      <td>thc</td>\n",
       "      <td>Does admit she is having a slight headache for...</td>\n",
       "      <td>1033</td>\n",
       "    </tr>\n",
       "  </tbody>\n",
       "</table>\n",
       "</div>"
      ],
      "text/plain": [
       "        database                                           sentence  n_token\n",
       "1381267      thc  PT has been doing ok most days; PT has been mo...     1104\n",
       "1666541      thc  36 yr old AAM , living with his son's mother a...     1014\n",
       "1673296      thc  Does go shopping and out with a friend once a ...     1096\n",
       "1742450      thc  \"; \\r\\nPT states she is sleeping ok and that s...     1037\n",
       "1848235      thc  Does admit she is having a slight headache for...     1033"
      ]
     },
     "execution_count": 12,
     "metadata": {},
     "output_type": "execute_result"
    }
   ],
   "source": [
    "sampleLongTextSamples=tokenCountFrSourceDbDf[(tokenCountFrSourceDbDf.database=='thc') & (tokenCountFrSourceDbDf.n_token >=1000)]\n",
    "sampleLongTextSamples.head()"
   ]
  },
  {
   "cell_type": "code",
   "execution_count": 19,
   "metadata": {},
   "outputs": [
    {
     "name": "stdout",
     "output_type": "stream",
     "text": [
      "INPERSON VISIT NOT AVAILBLE FOR REASON OF Covid 19, today's routine follow up appointment was conducted via telephone\n",
      "\n",
      "=========XXXXXXXXXX===========\n",
      "the client consented to a telephone appointment\n",
      "=========XXXXXXXXXX===========\n",
      "\n",
      "he reports taking his medication daily as prescribed\n",
      "all medication is working well\n",
      "\n",
      "=========XXXXXXXXXX===========\n",
      "his mood is stable\n",
      "=========XXXXXXXXXX===========\n",
      "\n",
      "he denies mood swings and depression\n",
      "he denies AVH, delusions and paranoia\n",
      "=========XXXXXXXXXX===========\n",
      "\n",
      "appetite and sleep pattern are intact\n",
      "=========XXXXXXXXXX===========\n",
      "\n",
      "energy level and motivation are good\n",
      "the current medication regimen is effective and there are no side effects\n",
      "=========XXXXXXXXXX===========\n",
      "\n",
      "he denies SI/HI or any thought of harm to self or others\n",
      "=========XXXXXXXXXX===========\n",
      "\n",
      "\n",
      "he has a transfer appointment scheduled for [DATE_5]\n",
      "he has requested to begin therapy and counseling \n",
      "he will begin therapy once transferred out of New START, as New START does not provide therapy\n",
      "he is aware of this plan and agrees\n",
      "=========XXXXXXXXXX===========\n",
      "\n",
      "\n",
      " \n",
      " \n",
      "INPERSON VISIT NOT AVAILBLE FOR REASON OF Covid 19, today's routine follow up appointment was conducted via telephone\n",
      "\n",
      "=========XXXXXXXXXX===========\n",
      "the client consented to a telephone appointment\n",
      "=========XXXXXXXXXX===========\n",
      "\n",
      "\n",
      "daughter was hospitalizaed due to mental illness\n",
      "=========XXXXXXXXXX===========\n",
      "\n",
      "she has been home now for about 2 days\n",
      "her meds were changed and she is doing better\n",
      "=========XXXXXXXXXX===========\n",
      "\n",
      "the client reports that he was not doing well when his daughter was in the hospital\n",
      "he felt highly anxious and mildly depressed while his daughter was hospitalized\n",
      "he reports doing well now\n",
      "he no longer feels depressed\n",
      "anxiety has resolved\n",
      "his mood is stable\n",
      "he denies AVH, delusions and paranoia\n",
      "=========XXXXXXXXXX===========\n",
      "\n",
      "\n",
      "=========XXXXXXXXXX===========\n",
      "he sleeps \"pretty good since she's been home\"\n",
      "=========XXXXXXXXXX===========\n",
      "\n",
      "appetite is good\n",
      "energy level and motivation are good\n",
      "he denies drug and alcohol use\n",
      "\n",
      "\n",
      "=========XXXXXXXXXX===========\n",
      "he denies SI/HI or any thought of harm to self or others\n",
      "=========XXXXXXXXXX===========\n",
      "\n",
      "\n",
      "the current medication regimen is effective and there are no side effects\n",
      "=========XXXXXXXXXX===========\n",
      "\n",
      " \n",
      " \n",
      "due to current agency protocol regarding Covid 19 safety precautions, today's follow up visit was conducted via telephone\n",
      "=========XXXXXXXXXX===========\n",
      "\n",
      "\n",
      "=========XXXXXXXXXX===========\n",
      "the client says he has been doing well\n",
      "=========XXXXXXXXXX===========\n",
      "\n",
      "depression and all mood symptoms have been well managed\n",
      "he denies feeling depressed\n",
      "\n",
      "=========XXXXXXXXXX===========\n",
      "he denies AVH, delusions and paranoia\n",
      "=========XXXXXXXXXX===========\n",
      "\n",
      "high anxiety remains as issue however, he says the medication calms him well\n",
      "the current medication regimen is effective and there are no side effects\n",
      "he denies SI/HI or any thoughts of harm to self or others\n",
      " \n",
      " \n",
      "he reports that he is taking all medication daily as prescribed\n",
      "his depressive and anxiety symptoms have improved\n",
      "he no longer feels depressed\n",
      "anixtey comes and goes but is well managed\n",
      "he continues to experience AH which he says have always been there and \"will never go away\"\n",
      "he denies AVH today\n",
      "=========XXXXXXXXXX===========\n",
      "\n",
      "he denies command or persucatory voices\n",
      " he eats and sleeps well\n",
      "=========XXXXXXXXXX===========\n",
      "\n",
      "mood is stable\n",
      "=========XXXXXXXXXX===========\n",
      "\n",
      "he denies feeling paranoid or delusional and there is no evidence that he is paranoid or delusional today\n",
      "=========XXXXXXXXXX===========\n",
      "\n",
      "he denies SI/HI or any thought\n",
      "=========XXXXXXXXXX===========\n",
      " of harm to self or others\n",
      "\n",
      "he confirms that Nurse [NAME_2] phoned him and informed him re his abnormal lab results\n",
      "he has a gold card but has not followed up with his PCP\n",
      "\n",
      "=========XXXXXXXXXX===========\n",
      "i discussed with him all lab results and the possible risks if he does not see his PCP for treatment\n",
      "=========XXXXXXXXXX===========\n",
      "\n",
      "he says \" i'll make an appointment\"\n",
      "\n",
      "\n",
      " \n",
      " \n",
      "he reports feeling higly anxious over the holidays\n",
      "=========XXXXXXXXXX===========\n",
      "\n",
      "he has a small house and had numerous family members over\n",
      "=========XXXXXXXXXX===========\n",
      "\n",
      "he has 7 children and 2 grandchildren and a host of siblings, neices and nephews who all came for the holidays\n",
      "=========XXXXXXXXXX===========\n",
      "\n",
      "he had difficulty calming his anxiety and says he still struggles everyday with anxiety\n",
      "=========XXXXXXXXXX===========\n",
      "\n",
      "Hydroxyzine helps, but\n",
      "=========XXXXXXXXXX===========\n",
      "not significantly\n",
      "he says Propranolol helps to calm his night time anxiety\n",
      "=========XXXXXXXXXX===========\n",
      "\n",
      "\n",
      "he feels depressed\n",
      "=========XXXXXXXXXX===========\n",
      "\n",
      "\" �'ve been hearing the voices too\"\n",
      "he says the holidays trigger his symptoms because he misses his mom who passed away \"some years back\"\n",
      "=========XXXXXXXXXX===========\n",
      "\n",
      "he rates his depression a 6 on a 1-10 scale where 1 is mild depression and 10 is severe\n",
      "he denies any thought of harm to self or others\n",
      "=========XXXXXXXXXX===========\n",
      "\n",
      "\n",
      "he has trouble falling asleep and staying asleep\n",
      "\" i take cat naps all night\"\n",
      "sleep is of poor quality\n",
      "he hears voices talking about his mom\n",
      "voices tell him he should have been a better child\n",
      "=========XXXXXXXXXX===========\n",
      "\n",
      "he denies VH, delusions and paranoia\n",
      "appetite is good\n",
      "energy level is good\n",
      "\n",
      "=========XXXXXXXXXX===========\n",
      "he denies drug and alcohol use\n",
      "=========XXXXXXXXXX===========\n",
      "\n",
      "\n",
      "this client would benefit from therapy and counseling for symptom recognition and  help in learning to manage daily responsibilities; assistance in developing and strengthening coping skills, social skills\n",
      "i discussed with the client the need for therapy and he agrees\n",
      "=========XXXXXXXXXX===========\n",
      "\n",
      "\n",
      "will increase Hydroxyzine today to calm anxiety and will increase Remeron to help with sleep and depression\n",
      "\n",
      "he denies SI/HI\n",
      "=========XXXXXXXXXX===========\n",
      "\n",
      "\n",
      " \n",
      " \n",
      "he says \"i'm doing so goog\"\n",
      "=========XXXXXXXXXX===========\n",
      "\n",
      "\"hearing the voices but not as much\"\n",
      "he denies command or persucatory voices \n",
      "he denies VH\n",
      "he says his anxiety is well controlled\n",
      "when asked if he feels depressed, he responds, \"not really, no\"\n",
      "he denies mood swings, anger and aggression\n",
      "=========XXXXXXXXXX===========\n",
      "\n",
      "he deneis any mood issues at all\n",
      "\n",
      "he denies psychosis and delusions\n",
      "\n",
      "\n",
      "he denies drug and alcohol use\n",
      "says he has been clean since he got out of CRU\n",
      "[DATE_2] UDS is + for Cannabinoids but he endorses that he is clean now and no longer using\n",
      "\n",
      "=========XXXXXXXXXX===========\n",
      "he\n",
      "=========XXXXXXXXXX===========\n",
      "denies\n",
      "=========XXXXXXXXXX===========\n",
      "drug cravings\n",
      "=========XXXXXXXXXX===========\n",
      "\n",
      "he reports going to AA atleast 3 times weekly which he says is helpful\n",
      "\n",
      "he is sleeping a full 8 hours\n",
      "=========XXXXXXXXXX===========\n",
      "\n",
      "\"these medications are helping me sleep\"\n",
      "\n",
      "he says things with his daughter have improved\n",
      "she is now taking Seroquel and she has been stable\n",
      "the client reports that he is doing better now that his stress level and worry re his daughter have decreased\n",
      "=========XXXXXXXXXX===========\n",
      "\n",
      " he denies thoughts of suicide\n",
      "he denies SI/HI\n",
      " \n",
      " \n",
      "[NAME_3] arrives today after discharge from [LOCATION_2] on [DATE_6]\n",
      "=========XXXXXXXXXX===========\n",
      "\n",
      "\n",
      "=========XXXXXXXXXX===========\n",
      "he reports that he went to [LOCATION_3] in September 2019 bceause he was suicidal with plan to \"die by cop\"\n",
      "=========XXXXXXXXXX===========\n",
      "\n",
      "and he was depressed and experiencing mood swings\n",
      "=========XXXXXXXXXX===========\n",
      "\n",
      "he says he was then transferred to [LOCATION_4] and then to [LOCATION_2] where he stayed for 14 days\n",
      "=========XXXXXXXXXX===========\n",
      "\n",
      "he was discharged from [LOCATION_2] on [DATE_6]\n",
      "=========XXXXXXXXXX===========\n",
      "\n",
      "he is now taking Risperdal, Hydroxyzine, Propranolol and Remeron which he says works well without side effects\n",
      "\n",
      "his mood is stable\n",
      "he is no longer suicidal\n",
      "=========XXXXXXXXXX===========\n",
      "\n",
      "depression comes and goes but is improving\n",
      "=========XXXXXXXXXX===========\n",
      "\n",
      "on his worse day he rates depression 8 or 9 on a 1-10 scale\n",
      "where 1= little depression and 10 is severe depression\n",
      "=========XXXXXXXXXX===========\n",
      "\n",
      "he says on a good day like today, he rates the depression a 3-4\n",
      "\n",
      "he says AVH are not improving\n",
      "he hears voices and sees his dead friends everyday\n",
      "voices are persucatory and derogatory\n",
      "energy level has been good\n",
      "\n",
      "=========XXXXXXXXXX===========\n",
      "he focuses well\n",
      "=========XXXXXXXXXX===========\n",
      "\n",
      "he sleeps well without Benadryl\n",
      "\n",
      "he admits to cocaine and THC use prior to going to [LOCATION_5] in September but says he has been clean and sober for almost a month\n",
      "=========XXXXXXXXXX===========\n",
      "\n",
      "he had been clean and sober for 2 years before this relapse\n",
      "he says the stresses at home with his mentally ill daughter caused him to relapse\n",
      "he denies use now and denies cravings\n",
      "=========XXXXXXXXXX===========\n",
      "\n",
      "\n",
      "will increase Risperdal per his request, for better management of AVH\n",
      "will also refer to outpatient rehab to assist him in staying clean\n",
      "\n",
      "he denies SI/HI or any thoughts of harm to self or others\n",
      "\n",
      "\n",
      "\n",
      "\n",
      " \n",
      " \n",
      "patient says he is doing well overall\n",
      "=========XXXXXXXXXX===========\n",
      "\n",
      "he feels down some days related to his daughter's mental health issues\n",
      "=========XXXXXXXXXX===========\n",
      "\n",
      "he says his daughter has been manic and has had meds changed to stabilize her\n",
      "he worries about his daughter and feels \"down and out\"\n",
      "but says he does have more good days than bad days\n",
      "=========XXXXXXXXXX===========\n",
      "\n",
      "he denies major depression or any thoughts of self harm\n",
      "he denies AVH\n",
      "=========XXXXXXXXXX===========\n",
      "\n",
      "he is sleeping well\n",
      "he reports that he relapsed one time a few weeks ago on THC due to the stresses with his daughter\n",
      "\n",
      "=========XXXXXXXXXX===========\n",
      "he says his PO is aware\n",
      "=========XXXXXXXXXX===========\n",
      "\n",
      "he denies any other drug or alcohol use and says he is committed to staying clean\n",
      "=========XXXXXXXXXX===========\n",
      "\n",
      "\n",
      "he denies SI/HI or any thoughts of harm to self or others\n",
      "=========XXXXXXXXXX===========\n",
      "\n",
      "the current medication regimen is effective and there are no side effects\n",
      "\n",
      " \n",
      " \n",
      "patient says he is doing much better\n",
      "=========XXXXXXXXXX===========\n",
      "\n",
      "he is no longer depressed\n",
      "his mood is stable\n",
      "he denies mood swings, anger  and rages\n",
      "he continues to expreience AVH every 2 days or so but AVH occur less often\n",
      "he denies command or persucatory voices\n",
      "\n",
      "=========XXXXXXXXXX===========\n",
      "he continues to experience nightmares every night but they are less intense\n",
      "=========XXXXXXXXXX===========\n",
      "\n",
      "he requests an increase in Prazosin stating he has noticed small improvent since he started taking it\n",
      "=========XXXXXXXXXX===========\n",
      "\n",
      "\n",
      "he eats well\n",
      "=========XXXXXXXXXX===========\n",
      "\n",
      "says he does get enough sleep , even with the night mares\n",
      "he denies SI/HI or any thoughts of harm to self or others\n",
      "\n",
      "patient is stable and doing well overall on the current med regimen and he denies any side effects\n",
      "\n",
      " \n",
      " \n",
      "[DATE_7]\n",
      "this is a 39 yr old Hispanic male\n",
      "\n",
      "=========XXXXXXXXXX===========\n",
      "he reports that he became suicidal this past weekend\n",
      "=========XXXXXXXXXX===========\n",
      "\n",
      "voices were out of control\n",
      "voices were louder tahn usual\n",
      " telling him that his daughter's mental issues are his fault\n",
      "telling him to kill self \"by cop\"\n",
      "which means do somthing that will cause the police to shoot him\n",
      "\n",
      "=========XXXXXXXXXX===========\n",
      "he went to NPC on [DATE_8]\n",
      "=========XXXXXXXXXX===========\n",
      "\n",
      "NPC was full and could not accept him\n",
      "=========XXXXXXXXXX===========\n",
      "\n",
      "he then went to [LOCATION_6]\n",
      "=========XXXXXXXXXX===========\n",
      "\n",
      "he was there\n",
      "=========XXXXXXXXXX===========\n",
      "a  few days and then released\n",
      "Abilify was increased to 10mg 3 tablets\n",
      "which he is taking now\n",
      "\n",
      "=========XXXXXXXXXX===========\n",
      "he says he no longer hears the voices and is no longer suicidal\n",
      "=========XXXXXXXXXX===========\n",
      "\n",
      "he is no longer depressed \n",
      "says he is thinking more clearly and logically\n",
      "=========XXXXXXXXXX===========\n",
      "\n",
      "says he is soing much better emotionally\n",
      "\n",
      "he was taking Trazodone 50mg but still not sleeping\n",
      "has trouble falling and staying asleep\n",
      "he increased to 2 tablets (100mg) which has worked better\n",
      "he has nightmares when he does sleep so sleeps only 2-3 hours\n",
      "=========XXXXXXXXXX===========\n",
      "\n",
      "he is sleeping better but still experiencing nightmares\n",
      "\n",
      "he has night mares of his daughter cutting and killing herself\n",
      "\n",
      "=========XXXXXXXXXX===========\n",
      "[\n",
      "=========XXXXXXXXXX===========\n",
      "NAME_4\n",
      "=========XXXXXXXXXX===========\n",
      "]\n",
      "=========XXXXXXXXXX===========\n",
      "sent him home with a paper Rx for Prazosin which he brought in today\n",
      "=========XXXXXXXXXX===========\n",
      "\n",
      "he did not fill yet\n",
      "requetsed that I fill today\n",
      "=========XXXXXXXXXX===========\n",
      "\n",
      "\n",
      "will have him D/C Trazodone while taking Prazosin to avoid med interaction/priapism\n",
      "=========XXXXXXXXXX===========\n",
      "\n",
      "will have him begin Prazosin before bed time\n",
      "=========XXXXXXXXXX===========\n",
      " to help with sleep/nightmares\n",
      "will also have him decrease Propranolol to once daily in the am instead of BID\n",
      "so as not to affect his BP while taking Prazosin\n",
      "\n",
      "i educated him re all medications including Prazosin for nightmares\n",
      "=========XXXXXXXXXX===========\n",
      "\n",
      "and Propranolol which he takes for anxiety\n",
      "\n",
      "=========XXXXXXXXXX===========\n",
      "i instructed him not to take Prazosin and Propranolol together\n",
      "take Propranolol in the am\n",
      "and Prazosin at night\n",
      "and to monitor his BP daily\n",
      "he knows to call with any questions, concerns or side effects\n",
      "=========XXXXXXXXXX===========\n",
      "\n",
      "\n",
      "will conttinue to monitor him closely for efficacy and side effetcs\n",
      "\n",
      "he denies SI/HI or any thoughts of harm to self or others\n",
      "=========XXXXXXXXXX===========\n",
      "\n",
      "he has no plan or intent to harm himself \n",
      "he assures me that he would  not harm himself because he loves his family too much\n",
      "\n",
      "\n",
      "[DATE_9]\n",
      "\n",
      "=========XXXXXXXXXX===========\n",
      "This 39-yr-old HM was seen today in f/u for the following:\n",
      "1.\n",
      "=========XXXXXXXXXX===========\n"
     ]
    }
   ],
   "source": [
    "longSample2='''======================================================================================PT is here as she has to change meds- Invega unavialable through PAP now; PT is anxiuos as she feels she is significantly calmer, with much less racing thoughts and more stable mood since starting Invegs; Pt is sleeping well; IS willing to make change in meds and try Risperdal; ======================================================================================PT states that she has been doing ok, but has not been sleeping well sleep is always disrupted; PT has been doing wotk PT as peer speicalist is enjoying it; STill very anxiuos when she has to speak in court before judge- in accordance with her position; Still having hives; PT feels she is able to think more clearly, thoughts racing has decreased; PAranoia is improved; ====================================================================================PT states she is doing much better; PT has been happy that her mood is even and she is not gaining weight; PT denies any racing thoughts; PT able to focus and concentrate at work; Is still having some paranoid thoughts and some disrupted sleep; PT much less anxiuos speaking in front of crowds with the use of propranolol and taking it once a day; DID have problems decreasing Geodon \" i had bone pain all over my body\";  working on getting drivers license and states \" i have a car waiting for me\"; ======================================================================================PT cam ein early as she found that hs eis not doing well with her mood; Feels trileptal did help with preventing cravings to use/drink; Hoever, she is having a lot of racing thoughts, unable to focus or concentrate, even on conversations; PT also waking up after 5//6 hours of sleep and is wide awake; PT with increased anxiety and broke out in hives several times when speaking in front of crowds; Very happy wto be work in Courts wih \"reunifcation\" court as mentor to mothers with infants and toddlers; IS teaching one class a week and is heading PAC as well; PT would like to have higher positions, but is doing well with current work; IS working out and losing weight=====================================================================================PT states she has been feeling ok, but not going to calsses, due to finishing community services; PT struggling with focusing on math ; PT sees no benefit from topomax; PT is staying sober; PT is sleeping well; All her warrants will be dropped; CPS is closed her case; PT sleeping well at night; Paranoid often about her baby and her getting hurt; PT very scared about her ex coming out of jail and hurting her as he has writted letters to her, trying to contact through others; PT has protective order;  wil start therapy soon; PT is working with [NAME_4] as peer advocate group vice president; Still feel this is the best she has done in long time; Sober from MEth for 11 months now; =====================================================================================PT seen via telepyschPT states she had been very paranoid for 1 week-  aboutt 3 weeks ago; She was very anxiuos and scared on the train, worried she would be attacked; PT also got scared at movise therater, thinking someone was going to shoot her; Thsi has since subsisded, but pt unaware what triggered this new experience; PT does feel cogentin has helped with side effects a lot; ALso, states she is no longer angry and is much calmer  and is happier; \"this is the best i have been in a long time\"; PT feels meds wear off at 5pm and she becomes irritable, but if she takes at that time, then she becomes sedated quickly and sleeps by 7 pm- this makes ot difficult for her to get through evening with 4 years old; ====================================================================================PT states she is still easily distracted, goes off topic, still thoughts racing and jumping around; pt still on edge, tense , chest heaviness; feels atarax is not helpful; PT did get  4 yr old dtr back and got  flex funds for apartment;  PT is much calmer and far less angry on medications; PT is in celebrate recovery, attending school for GED; Happy to having  dtr back; PT doing ok with visitations with ex; Doing family therapy - with ex; not doing trauma therapy anymore and would like to start here; ===============================================================================PT has been doing better; PT applied for a job through Salvvation army- hoping to get the desk job; PT is doing trauma counseling; PT finds that she is anxiuos and easily agitated; sleep is good; many relationship issues with mother who hs custody of her child; eating excessively and gaining weight; plans to join a gym; asking about flex funding; Staying clean and sober; pt not returning to boyfriend due to issues with his parents; ====================================================================================PT has been in treatment off and on since 18 yrs; PT then was on no meds for some time; Then , pt was in TDC - was tried on variuos meds from 2008- 2016; PT has PT states she is \"ready to accept the diagnosis of bipolar d/o\"; PT states CPS became involved when mother of fiancee' called on pt and husband for drug use; PT has been happy that family therapy through courts; PT  also doing truama therapy - longest sobriety was 3 years 2008-2011; PT did also in 2014- 2015- was in AA and very involved in Church ;PT states during 3 years- was working 40 hours, regular;  PT always feels her thoughts are jumping around to 20 different things at once; Was able to work ok and focus- was working manager, top position ; and able to manage this; PT has h/o impulsive behaviors- mostly when she was using; When younger was selling drugs, selling guns- was in bad neighborhood- this was around; switchboard operator - for many years; PT still has had nightmares off and on - about her ex- he is now in prison- for assualt on her; PT has been through periods of depression, sadness, crying spells, hoplessness, guilt that was ongoing for weeks; PT now feels she is on the best meds for her and \"love the topomax\"; PT feels she has had \"severe reactions\" to many medications in the past and due to poor experience stopped all meds for years; \"now i need to get my life together\";'''\n",
    "doc = nlp(re.sub(\"_{3,}\", ' \\n ', sampleLongText))\n",
    "for i in list(item.text for item in doc.sents):\n",
    "    print(i)\n",
    "    print('=========XXXXXXXXXX===========')"
   ]
  },
  {
   "cell_type": "markdown",
   "metadata": {},
   "source": [
    "## using NLTK"
   ]
  },
  {
   "cell_type": "code",
   "execution_count": 3,
   "metadata": {},
   "outputs": [
    {
     "data": {
      "text/plain": [
       "['I am speaking to Dr.Drak ramoray.', 'Is he here today?']"
      ]
     },
     "execution_count": 3,
     "metadata": {},
     "output_type": "execute_result"
    }
   ],
   "source": [
    "\n",
    "from nltk.tokenize import sent_tokenize\n",
    "cleaned_data=sent_tokenize(\"I am speaking to Dr.Drak ramoray. Is he here today? \")\n",
    "cleaned_data"
   ]
  },
  {
   "cell_type": "code",
   "execution_count": null,
   "metadata": {},
   "outputs": [],
   "source": []
  },
  {
   "cell_type": "markdown",
   "metadata": {},
   "source": [
    "# Download the notes"
   ]
  },
  {
   "cell_type": "code",
   "execution_count": 4,
   "metadata": {},
   "outputs": [],
   "source": [
    "# about 1min for 11Million rows\n",
    "notesTableDfPath = Path('notesTable.csv')\n",
    "\n",
    "if not notesTableDfPath.exists():\n",
    "    notesTable = pgIO.getDataIterator(\n",
    "        query=f'''\n",
    "        SELECT \n",
    "            notes.patient_id, \n",
    "            notes.patient_encounter_id, \n",
    "            notes.database,\n",
    "            notes.note\n",
    "        FROM v1_nlp.notes\n",
    "        WHERE notes.database='thc'\n",
    "        ; \n",
    "        ''',\n",
    "        dbName='NLP_CDM',\n",
    "        chunks=10000,\n",
    "    )\n",
    "    alldata = chain(*notesTable)\n",
    "\n",
    "    notesTableDf = pd.DataFrame(\n",
    "        alldata,\n",
    "        columns=['patient_id',\n",
    "                 'patient_encounter_id', \n",
    "                 'database',\n",
    "                 'note', \n",
    "                 ],\n",
    "    )\n",
    "    notesTableDf.to_csv(\n",
    "        notesTableDfPath,\n",
    "        index=False\n",
    "    )\n",
    "else:\n",
    "    notesTableDf = pd.read_csv(\n",
    "        notesTableDfPath,\n",
    "    )"
   ]
  },
  {
   "cell_type": "code",
   "execution_count": 5,
   "metadata": {},
   "outputs": [
    {
     "name": "stderr",
     "output_type": "stream",
     "text": [
      "The default value of regex will change from True to False in a future version.\n"
     ]
    },
    {
     "data": {
      "text/html": [
       "<div>\n",
       "<style scoped>\n",
       "    .dataframe tbody tr th:only-of-type {\n",
       "        vertical-align: middle;\n",
       "    }\n",
       "\n",
       "    .dataframe tbody tr th {\n",
       "        vertical-align: top;\n",
       "    }\n",
       "\n",
       "    .dataframe thead th {\n",
       "        text-align: right;\n",
       "    }\n",
       "</style>\n",
       "<table border=\"1\" class=\"dataframe\">\n",
       "  <thead>\n",
       "    <tr style=\"text-align: right;\">\n",
       "      <th></th>\n",
       "      <th>patient_id</th>\n",
       "      <th>patient_encounter_id</th>\n",
       "      <th>database</th>\n",
       "      <th>note</th>\n",
       "      <th>notesCleanned</th>\n",
       "    </tr>\n",
       "  </thead>\n",
       "  <tbody>\n",
       "    <tr>\n",
       "      <th>0</th>\n",
       "      <td>thc_2327090027</td>\n",
       "      <td>thc_6920877</td>\n",
       "      <td>thc</td>\n",
       "      <td>1700:\\nPsychotic sx, Depressive sx, PTSD, Irri...</td>\n",
       "      <td>1700:\\nPsychotic sx, Depressive sx, PTSD, Irri...</td>\n",
       "    </tr>\n",
       "    <tr>\n",
       "      <th>1</th>\n",
       "      <td>thc_2327280027</td>\n",
       "      <td>thc_10769310</td>\n",
       "      <td>thc</td>\n",
       "      <td>1700:\\npoor sleep pattern\\r\\nunemployment and ...</td>\n",
       "      <td>1700:\\npoor sleep pattern\\r\\nunemployment and ...</td>\n",
       "    </tr>\n",
       "    <tr>\n",
       "      <th>2</th>\n",
       "      <td>thc_2327820027</td>\n",
       "      <td>thc_10841322</td>\n",
       "      <td>thc</td>\n",
       "      <td>1802:\\nThe Illuniati are still bothering.\\n\\n1...</td>\n",
       "      <td>1802:\\nThe Illuniati are still bothering.\\n\\n1...</td>\n",
       "    </tr>\n",
       "    <tr>\n",
       "      <th>3</th>\n",
       "      <td>thc_2327860027</td>\n",
       "      <td>thc_10272285</td>\n",
       "      <td>thc</td>\n",
       "      <td>1802:\\nSocial security reported that I needed ...</td>\n",
       "      <td>1802:\\nSocial security reported that I needed ...</td>\n",
       "    </tr>\n",
       "    <tr>\n",
       "      <th>4</th>\n",
       "      <td>thc_2327950027</td>\n",
       "      <td>thc_2316981</td>\n",
       "      <td>thc</td>\n",
       "      <td>10133:\\n[DATE_13]  CMP wnl; Lipid wnl; CBC-\"an...</td>\n",
       "      <td>10133:\\n[DATE_13]  CMP wnl; Lipid wnl; CBC-\"an...</td>\n",
       "    </tr>\n",
       "    <tr>\n",
       "      <th>...</th>\n",
       "      <td>...</td>\n",
       "      <td>...</td>\n",
       "      <td>...</td>\n",
       "      <td>...</td>\n",
       "      <td>...</td>\n",
       "    </tr>\n",
       "    <tr>\n",
       "      <th>79518</th>\n",
       "      <td>thc_998970027</td>\n",
       "      <td>thc_5104896</td>\n",
       "      <td>thc</td>\n",
       "      <td>10147:\\nhypertension\\r\\nhigh cholesterol--star...</td>\n",
       "      <td>10147:\\nhypertension\\r\\nhigh cholesterol--star...</td>\n",
       "    </tr>\n",
       "    <tr>\n",
       "      <th>79519</th>\n",
       "      <td>thc_998980027</td>\n",
       "      <td>thc_1644181</td>\n",
       "      <td>thc</td>\n",
       "      <td>3350:\\nstable at baseline functioning\\n\\n24876...</td>\n",
       "      <td>3350:\\nstable at baseline functioning\\n\\n24876...</td>\n",
       "    </tr>\n",
       "    <tr>\n",
       "      <th>79520</th>\n",
       "      <td>thc_999050027</td>\n",
       "      <td>thc_10849990</td>\n",
       "      <td>thc</td>\n",
       "      <td>1700:\\nDepression, anxiety, insomnia, non enga...</td>\n",
       "      <td>1700:\\nDepression, anxiety, insomnia, non enga...</td>\n",
       "    </tr>\n",
       "    <tr>\n",
       "      <th>79521</th>\n",
       "      <td>thc_999140027</td>\n",
       "      <td>thc_4331871</td>\n",
       "      <td>thc</td>\n",
       "      <td>1700:\\nPsychosis/mood d/o - appears to be at c...</td>\n",
       "      <td>1700:\\nPsychosis/mood d/o - appears to be at c...</td>\n",
       "    </tr>\n",
       "    <tr>\n",
       "      <th>79522</th>\n",
       "      <td>thc_999200027</td>\n",
       "      <td>thc_5625299</td>\n",
       "      <td>thc</td>\n",
       "      <td>1700:\\nSome depressive symptoms.  More positiv...</td>\n",
       "      <td>1700:\\nSome depressive symptoms.  More positiv...</td>\n",
       "    </tr>\n",
       "  </tbody>\n",
       "</table>\n",
       "<p>79523 rows × 5 columns</p>\n",
       "</div>"
      ],
      "text/plain": [
       "           patient_id patient_encounter_id database  \\\n",
       "0      thc_2327090027          thc_6920877      thc   \n",
       "1      thc_2327280027         thc_10769310      thc   \n",
       "2      thc_2327820027         thc_10841322      thc   \n",
       "3      thc_2327860027         thc_10272285      thc   \n",
       "4      thc_2327950027          thc_2316981      thc   \n",
       "...               ...                  ...      ...   \n",
       "79518   thc_998970027          thc_5104896      thc   \n",
       "79519   thc_998980027          thc_1644181      thc   \n",
       "79520   thc_999050027         thc_10849990      thc   \n",
       "79521   thc_999140027          thc_4331871      thc   \n",
       "79522   thc_999200027          thc_5625299      thc   \n",
       "\n",
       "                                                    note  \\\n",
       "0      1700:\\nPsychotic sx, Depressive sx, PTSD, Irri...   \n",
       "1      1700:\\npoor sleep pattern\\r\\nunemployment and ...   \n",
       "2      1802:\\nThe Illuniati are still bothering.\\n\\n1...   \n",
       "3      1802:\\nSocial security reported that I needed ...   \n",
       "4      10133:\\n[DATE_13]  CMP wnl; Lipid wnl; CBC-\"an...   \n",
       "...                                                  ...   \n",
       "79518  10147:\\nhypertension\\r\\nhigh cholesterol--star...   \n",
       "79519  3350:\\nstable at baseline functioning\\n\\n24876...   \n",
       "79520  1700:\\nDepression, anxiety, insomnia, non enga...   \n",
       "79521  1700:\\nPsychosis/mood d/o - appears to be at c...   \n",
       "79522  1700:\\nSome depressive symptoms.  More positiv...   \n",
       "\n",
       "                                           notesCleanned  \n",
       "0      1700:\\nPsychotic sx, Depressive sx, PTSD, Irri...  \n",
       "1      1700:\\npoor sleep pattern\\r\\nunemployment and ...  \n",
       "2      1802:\\nThe Illuniati are still bothering.\\n\\n1...  \n",
       "3      1802:\\nSocial security reported that I needed ...  \n",
       "4      10133:\\n[DATE_13]  CMP wnl; Lipid wnl; CBC-\"an...  \n",
       "...                                                  ...  \n",
       "79518  10147:\\nhypertension\\r\\nhigh cholesterol--star...  \n",
       "79519  3350:\\nstable at baseline functioning\\n\\n24876...  \n",
       "79520  1700:\\nDepression, anxiety, insomnia, non enga...  \n",
       "79521  1700:\\nPsychosis/mood d/o - appears to be at c...  \n",
       "79522  1700:\\nSome depressive symptoms.  More positiv...  \n",
       "\n",
       "[79523 rows x 5 columns]"
      ]
     },
     "execution_count": 5,
     "metadata": {},
     "output_type": "execute_result"
    }
   ],
   "source": [
    "notesTableDf['notesCleanned'] = notesTableDf.note.str.replace(\"_{3,}\", ' \\n ')\n",
    "notesTableDf"
   ]
  },
  {
   "cell_type": "code",
   "execution_count": null,
   "metadata": {},
   "outputs": [],
   "source": [
    "!pip3 install tqdm\n",
    "!pip3 install ipywidgets"
   ]
  },
  {
   "cell_type": "code",
   "execution_count": 8,
   "metadata": {},
   "outputs": [
    {
     "data": {
      "application/vnd.jupyter.widget-view+json": {
       "model_id": "b20ace2d2e014d03b21efb3186e469f3",
       "version_major": 2,
       "version_minor": 0
      },
      "text/plain": [
       "0it [00:00, ?it/s]"
      ]
     },
     "metadata": {},
     "output_type": "display_data"
    }
   ],
   "source": [
    "# use nltk for first layer\n",
    "from tqdm.notebook import tqdm\n",
    "tqdm().pandas()"
   ]
  },
  {
   "cell_type": "code",
   "execution_count": 9,
   "metadata": {},
   "outputs": [
    {
     "data": {
      "application/vnd.jupyter.widget-view+json": {
       "model_id": "de50bc9ebb374bac9299c326e4d87b3c",
       "version_major": 2,
       "version_minor": 0
      },
      "text/plain": [
       "  0%|          | 0/79523 [00:00<?, ?it/s]"
      ]
     },
     "metadata": {},
     "output_type": "display_data"
    }
   ],
   "source": [
    "notesTableDf['nltkCleanned']=notesTableDf.notesCleanned.progress_apply(lambda sent: sent_tokenize(sent))"
   ]
  },
  {
   "cell_type": "code",
   "execution_count": null,
   "metadata": {},
   "outputs": [],
   "source": []
  },
  {
   "cell_type": "code",
   "execution_count": null,
   "metadata": {},
   "outputs": [],
   "source": []
  },
  {
   "cell_type": "code",
   "execution_count": null,
   "metadata": {},
   "outputs": [],
   "source": []
  },
  {
   "cell_type": "code",
   "execution_count": 6,
   "metadata": {},
   "outputs": [],
   "source": [
    "import os\n",
    "os.environ[\"TOKENIZERS_PARALLELISM\"] = \"true\"\n",
    "from Tacos.parallelWrap import TaskLogic, ParallelWorker\n",
    "\n",
    "class SentenceTokenising(TaskLogic):\n",
    "    \n",
    "    def __init__(self, ) -> None:\n",
    "        super().__init__()\n",
    "        self.nlp=spacy.load(\"en_core_sci_scibert\")\n",
    "    \n",
    "    def workSingleTask(self, task:str):\n",
    "        doc = self.nlp(task)\n",
    "        cleaned_data=list(item.text for item in doc.sents)\n",
    "        return cleaned_data"
   ]
  },
  {
   "cell_type": "code",
   "execution_count": 7,
   "metadata": {},
   "outputs": [
    {
     "name": "stderr",
     "output_type": "stream",
     "text": [
      "  0%|          | 0/10 [00:00<?, ?it/s]"
     ]
    },
    {
     "ename": "KeyboardInterrupt",
     "evalue": "",
     "output_type": "error",
     "traceback": [
      "\u001b[0;31m---------------------------------------------------------------------------\u001b[0m",
      "\u001b[0;31mKeyboardInterrupt\u001b[0m                         Traceback (most recent call last)",
      "\u001b[1;32m/home/ubuntu/workspace_shaomin/adhocWork/sentenceTokenizing/originalSentenceAnalysis.ipynb Cell 40'\u001b[0m in \u001b[0;36m<cell line: 6>\u001b[0;34m()\u001b[0m\n\u001b[1;32m      <a href='vscode-notebook-cell://ssh-remote%2B7b22686f73744e616d65223a224e4c505f4d6f64656c5f747261696e696e67227d/home/ubuntu/workspace_shaomin/adhocWork/sentenceTokenizing/originalSentenceAnalysis.ipynb#ch0000041vscode-remote?line=0'>1</a>\u001b[0m process \u001b[39m=\u001b[39m ParallelWorker(taskLogic \u001b[39m=\u001b[39m SentenceTokenising,\n\u001b[1;32m      <a href='vscode-notebook-cell://ssh-remote%2B7b22686f73744e616d65223a224e4c505f4d6f64656c5f747261696e696e67227d/home/ubuntu/workspace_shaomin/adhocWork/sentenceTokenizing/originalSentenceAnalysis.ipynb#ch0000041vscode-remote?line=1'>2</a>\u001b[0m                              taskList\u001b[39m=\u001b[39m notesTableDf\u001b[39m.\u001b[39mnotesCleanned\u001b[39m.\u001b[39mtolist()[:\u001b[39m10\u001b[39m],\n\u001b[1;32m      <a href='vscode-notebook-cell://ssh-remote%2B7b22686f73744e616d65223a224e4c505f4d6f64656c5f747261696e696e67227d/home/ubuntu/workspace_shaomin/adhocWork/sentenceTokenizing/originalSentenceAnalysis.ipynb#ch0000041vscode-remote?line=2'>3</a>\u001b[0m                              processes \u001b[39m=\u001b[39m \u001b[39m6\u001b[39m,\n\u001b[1;32m      <a href='vscode-notebook-cell://ssh-remote%2B7b22686f73744e616d65223a224e4c505f4d6f64656c5f747261696e696e67227d/home/ubuntu/workspace_shaomin/adhocWork/sentenceTokenizing/originalSentenceAnalysis.ipynb#ch0000041vscode-remote?line=3'>4</a>\u001b[0m                              chunks \u001b[39m=\u001b[39m \u001b[39m8\u001b[39m,\n\u001b[1;32m      <a href='vscode-notebook-cell://ssh-remote%2B7b22686f73744e616d65223a224e4c505f4d6f64656c5f747261696e696e67227d/home/ubuntu/workspace_shaomin/adhocWork/sentenceTokenizing/originalSentenceAnalysis.ipynb#ch0000041vscode-remote?line=4'>5</a>\u001b[0m                              minInterval \u001b[39m=\u001b[39m \u001b[39m1\u001b[39m)\n\u001b[0;32m----> <a href='vscode-notebook-cell://ssh-remote%2B7b22686f73744e616d65223a224e4c505f4d6f64656c5f747261696e696e67227d/home/ubuntu/workspace_shaomin/adhocWork/sentenceTokenizing/originalSentenceAnalysis.ipynb#ch0000041vscode-remote?line=5'>6</a>\u001b[0m process\u001b[39m.\u001b[39;49mrun()\n\u001b[1;32m      <a href='vscode-notebook-cell://ssh-remote%2B7b22686f73744e616d65223a224e4c505f4d6f64656c5f747261696e696e67227d/home/ubuntu/workspace_shaomin/adhocWork/sentenceTokenizing/originalSentenceAnalysis.ipynb#ch0000041vscode-remote?line=6'>7</a>\u001b[0m results\u001b[39m=\u001b[39mprocess\u001b[39m.\u001b[39mgetResults()\n",
      "File \u001b[0;32m~/.local/lib/python3.8/site-packages/Tacos/parallelWrap.py:118\u001b[0m, in \u001b[0;36mParallelWorker.run\u001b[0;34m(self)\u001b[0m\n\u001b[1;32m    114\u001b[0m allDone \u001b[39m=\u001b[39m \u001b[39m0\u001b[39m\n\u001b[1;32m    115\u001b[0m \u001b[39mwhile\u001b[39;00m allDone \u001b[39m<\u001b[39m \u001b[39mself\u001b[39m\u001b[39m.\u001b[39mtaskCount:\n\u001b[1;32m    116\u001b[0m     \u001b[39m# getting the updates from \u001b[39;00m\n\u001b[1;32m    117\u001b[0m     \u001b[39m# each sub-process to update the progress bar\u001b[39;00m\n\u001b[0;32m--> 118\u001b[0m     taskDone \u001b[39m=\u001b[39m \u001b[39mself\u001b[39;49m\u001b[39m.\u001b[39;49mprogressBar\u001b[39m.\u001b[39;49mget()\n\u001b[1;32m    119\u001b[0m     taskProgress\u001b[39m.\u001b[39mupdate(taskDone)\n\u001b[1;32m    120\u001b[0m     allDone \u001b[39m+\u001b[39m\u001b[39m=\u001b[39m taskDone\n",
      "File \u001b[0;32m<string>:2\u001b[0m, in \u001b[0;36mget\u001b[0;34m(self, *args, **kwds)\u001b[0m\n",
      "File \u001b[0;32m/usr/lib/python3.8/multiprocessing/managers.py:835\u001b[0m, in \u001b[0;36mBaseProxy._callmethod\u001b[0;34m(self, methodname, args, kwds)\u001b[0m\n\u001b[1;32m    832\u001b[0m     conn \u001b[39m=\u001b[39m \u001b[39mself\u001b[39m\u001b[39m.\u001b[39m_tls\u001b[39m.\u001b[39mconnection\n\u001b[1;32m    834\u001b[0m conn\u001b[39m.\u001b[39msend((\u001b[39mself\u001b[39m\u001b[39m.\u001b[39m_id, methodname, args, kwds))\n\u001b[0;32m--> 835\u001b[0m kind, result \u001b[39m=\u001b[39m conn\u001b[39m.\u001b[39;49mrecv()\n\u001b[1;32m    837\u001b[0m \u001b[39mif\u001b[39;00m kind \u001b[39m==\u001b[39m \u001b[39m'\u001b[39m\u001b[39m#RETURN\u001b[39m\u001b[39m'\u001b[39m:\n\u001b[1;32m    838\u001b[0m     \u001b[39mreturn\u001b[39;00m result\n",
      "File \u001b[0;32m/usr/lib/python3.8/multiprocessing/connection.py:250\u001b[0m, in \u001b[0;36m_ConnectionBase.recv\u001b[0;34m(self)\u001b[0m\n\u001b[1;32m    248\u001b[0m \u001b[39mself\u001b[39m\u001b[39m.\u001b[39m_check_closed()\n\u001b[1;32m    249\u001b[0m \u001b[39mself\u001b[39m\u001b[39m.\u001b[39m_check_readable()\n\u001b[0;32m--> 250\u001b[0m buf \u001b[39m=\u001b[39m \u001b[39mself\u001b[39;49m\u001b[39m.\u001b[39;49m_recv_bytes()\n\u001b[1;32m    251\u001b[0m \u001b[39mreturn\u001b[39;00m _ForkingPickler\u001b[39m.\u001b[39mloads(buf\u001b[39m.\u001b[39mgetbuffer())\n",
      "File \u001b[0;32m/usr/lib/python3.8/multiprocessing/connection.py:414\u001b[0m, in \u001b[0;36mConnection._recv_bytes\u001b[0;34m(self, maxsize)\u001b[0m\n\u001b[1;32m    413\u001b[0m \u001b[39mdef\u001b[39;00m \u001b[39m_recv_bytes\u001b[39m(\u001b[39mself\u001b[39m, maxsize\u001b[39m=\u001b[39m\u001b[39mNone\u001b[39;00m):\n\u001b[0;32m--> 414\u001b[0m     buf \u001b[39m=\u001b[39m \u001b[39mself\u001b[39;49m\u001b[39m.\u001b[39;49m_recv(\u001b[39m4\u001b[39;49m)\n\u001b[1;32m    415\u001b[0m     size, \u001b[39m=\u001b[39m struct\u001b[39m.\u001b[39munpack(\u001b[39m\"\u001b[39m\u001b[39m!i\u001b[39m\u001b[39m\"\u001b[39m, buf\u001b[39m.\u001b[39mgetvalue())\n\u001b[1;32m    416\u001b[0m     \u001b[39mif\u001b[39;00m size \u001b[39m==\u001b[39m \u001b[39m-\u001b[39m\u001b[39m1\u001b[39m:\n",
      "File \u001b[0;32m/usr/lib/python3.8/multiprocessing/connection.py:379\u001b[0m, in \u001b[0;36mConnection._recv\u001b[0;34m(self, size, read)\u001b[0m\n\u001b[1;32m    377\u001b[0m remaining \u001b[39m=\u001b[39m size\n\u001b[1;32m    378\u001b[0m \u001b[39mwhile\u001b[39;00m remaining \u001b[39m>\u001b[39m \u001b[39m0\u001b[39m:\n\u001b[0;32m--> 379\u001b[0m     chunk \u001b[39m=\u001b[39m read(handle, remaining)\n\u001b[1;32m    380\u001b[0m     n \u001b[39m=\u001b[39m \u001b[39mlen\u001b[39m(chunk)\n\u001b[1;32m    381\u001b[0m     \u001b[39mif\u001b[39;00m n \u001b[39m==\u001b[39m \u001b[39m0\u001b[39m:\n",
      "\u001b[0;31mKeyboardInterrupt\u001b[0m: "
     ]
    }
   ],
   "source": [
    "process = ParallelWorker(taskLogic = SentenceTokenising,\n",
    "                             taskList= notesTableDf.notesCleanned.tolist()[:10],\n",
    "                             processes = 6,\n",
    "                             chunks = 8,\n",
    "                             minInterval = 1)\n",
    "process.run()\n",
    "results=process.getResults()"
   ]
  },
  {
   "cell_type": "code",
   "execution_count": null,
   "metadata": {},
   "outputs": [],
   "source": []
  }
 ],
 "metadata": {
  "kernelspec": {
   "display_name": "Python 3.8.0 64-bit",
   "language": "python",
   "name": "python3"
  },
  "language_info": {
   "codemirror_mode": {
    "name": "ipython",
    "version": 3
   },
   "file_extension": ".py",
   "mimetype": "text/x-python",
   "name": "python",
   "nbconvert_exporter": "python",
   "pygments_lexer": "ipython3",
   "version": "3.8.0"
  },
  "orig_nbformat": 4,
  "vscode": {
   "interpreter": {
    "hash": "df0893f56f349688326838aaeea0de204df53a132722cbd565e54b24a8fec5f6"
   }
  }
 },
 "nbformat": 4,
 "nbformat_minor": 2
}
