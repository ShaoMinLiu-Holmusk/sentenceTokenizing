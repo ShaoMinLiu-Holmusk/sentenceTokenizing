{
 "cells": [
  {
   "cell_type": "code",
   "execution_count": 62,
   "metadata": {},
   "outputs": [
    {
     "name": "stdout",
     "output_type": "stream",
     "text": [
      "Collecting Tacos\n",
      "  Cloning https://github.com/lsmoriginal/Tacos.git to /tmp/pip-install-40lozv89/tacos_f463b672d3974f5ab585e16ec38cdcc1\n",
      "  Running command git clone --filter=blob:none --quiet https://github.com/lsmoriginal/Tacos.git /tmp/pip-install-40lozv89/tacos_f463b672d3974f5ab585e16ec38cdcc1\n",
      "  Resolved https://github.com/lsmoriginal/Tacos.git to commit 54d5023cca95f224e7f5e53070754cea96105a26\n",
      "  Preparing metadata (setup.py) ... \u001b[?25ldone\n",
      "\u001b[?25hCollecting Pillow<=8.3.1\n",
      "  Using cached Pillow-8.3.1-cp310-cp310-linux_x86_64.whl\n",
      "Requirement already satisfied: Pandas in /home/ubuntu/shaomin_workspace/env_shaomin/lib/python3.10/site-packages (from Tacos) (1.4.3)\n",
      "Requirement already satisfied: pytz in /home/ubuntu/shaomin_workspace/env_shaomin/lib/python3.10/site-packages (from Tacos) (2022.1)\n",
      "Requirement already satisfied: pyyaml in /home/ubuntu/shaomin_workspace/env_shaomin/lib/python3.10/site-packages (from Tacos) (6.0)\n",
      "Requirement already satisfied: python-dateutil>=2.8.1 in /home/ubuntu/shaomin_workspace/env_shaomin/lib/python3.10/site-packages (from Pandas->Tacos) (2.8.2)\n",
      "Requirement already satisfied: numpy>=1.21.0 in /home/ubuntu/shaomin_workspace/env_shaomin/lib/python3.10/site-packages (from Pandas->Tacos) (1.23.1)\n",
      "Requirement already satisfied: six>=1.5 in /home/ubuntu/shaomin_workspace/env_shaomin/lib/python3.10/site-packages (from python-dateutil>=2.8.1->Pandas->Tacos) (1.16.0)\n",
      "Using legacy 'setup.py install' for Tacos, since package 'wheel' is not installed.\n",
      "Installing collected packages: Pillow, Tacos\n",
      "  Attempting uninstall: Pillow\n",
      "    Found existing installation: Pillow 9.2.0\n",
      "    Uninstalling Pillow-9.2.0:\n",
      "      Successfully uninstalled Pillow-9.2.0\n",
      "  Running setup.py install for Tacos ... \u001b[?25ldone\n",
      "\u001b[?25hSuccessfully installed Pillow-8.3.1 Tacos-0.0.1\n",
      "\n",
      "\u001b[1m[\u001b[0m\u001b[34;49mnotice\u001b[0m\u001b[1;39;49m]\u001b[0m\u001b[39;49m A new release of pip available: \u001b[0m\u001b[31;49m22.1.2\u001b[0m\u001b[39;49m -> \u001b[0m\u001b[32;49m22.2.1\u001b[0m\n",
      "\u001b[1m[\u001b[0m\u001b[34;49mnotice\u001b[0m\u001b[1;39;49m]\u001b[0m\u001b[39;49m To update, run: \u001b[0m\u001b[32;49mpip install --upgrade pip\u001b[0m\n"
     ]
    }
   ],
   "source": [
    "# !pip3 install git+ssh://git@github.com/Holmusk/neuroblu_postgres.git@v1.0.2#egg=neuroblu_postgres\n",
    "# !pip3 install psycopg2-binary\n",
    "# !pip3 install statsmodels\n",
    "# !pip3 install git+https://github.com/lsmoriginal/Tacos.git#egg=Tacos"
   ]
  },
  {
   "cell_type": "code",
   "execution_count": 20,
   "metadata": {},
   "outputs": [],
   "source": [
    "import pandas as pd\n",
    "import seaborn as sns\n",
    "\n",
    "from itertools import chain\n",
    "from pathlib import Path\n",
    "import re\n",
    "\n",
    "import os\n",
    "os.environ[\"DB_PATH\"]='../../db.json'\n",
    "from neuroblu_postgres.databaseIO import pgIO"
   ]
  },
  {
   "cell_type": "markdown",
   "metadata": {},
   "source": [
    "# Distribution of the current tokens"
   ]
  },
  {
   "cell_type": "code",
   "execution_count": 6,
   "metadata": {},
   "outputs": [],
   "source": [
    "# about 1min for 11Million rows\n",
    "tokenCountFrSourceDbDfPath = Path('tokenCountFrSourceDbDf.csv')\n",
    "\n",
    "if not tokenCountFrSourceDbDfPath.exists():\n",
    "    tokenCountFrSourceDb = pgIO.getDataIterator(\n",
    "        query=f'''\n",
    "        SELECT \n",
    "            sentences.database, \n",
    "            sentences.sentence, \n",
    "            sentences.n_token\n",
    "        FROM v1_nlp.sentences\n",
    "        ; \n",
    "        ''',\n",
    "        dbName='NLP_CDM',\n",
    "        chunks=10000,\n",
    "    )\n",
    "    alldata = chain(*tokenCountFrSourceDb)\n",
    "\n",
    "    tokenCountFrSourceDbDf = pd.DataFrame(\n",
    "        alldata,\n",
    "        columns=['database','sentence', 'n_token'],\n",
    "    )\n",
    "    tokenCountFrSourceDbDf.to_csv(\n",
    "        tokenCountFrSourceDbDfPath,\n",
    "        index=False\n",
    "    )\n",
    "else:\n",
    "    tokenCountFrSourceDbDf = pd.read_csv(\n",
    "        tokenCountFrSourceDbDfPath,\n",
    "    )"
   ]
  },
  {
   "cell_type": "code",
   "execution_count": 7,
   "metadata": {},
   "outputs": [
    {
     "data": {
      "text/plain": [
       "(11535536, 3)"
      ]
     },
     "execution_count": 7,
     "metadata": {},
     "output_type": "execute_result"
    }
   ],
   "source": [
    "tokenCountFrSourceDbDf.shape\n",
    "# 11 Million sentences"
   ]
  },
  {
   "cell_type": "code",
   "execution_count": 32,
   "metadata": {},
   "outputs": [
    {
     "data": {
      "text/plain": [
       "<AxesSubplot:xlabel='n_token', ylabel='Count'>"
      ]
     },
     "execution_count": 32,
     "metadata": {},
     "output_type": "execute_result"
    },
    {
     "data": {
      "image/png": "[encoded data removed]",
      "text/plain": [
       "<Figure size 432x288 with 1 Axes>"
      ]
     },
     "metadata": {
      "needs_background": "light"
     },
     "output_type": "display_data"
    }
   ],
   "source": [
    "sns.histplot(\n",
    "    data=tokenCountFrSourceDbDf.sample(10000),\n",
    "    x='n_token',\n",
    "    hue='database',\n",
    ")"
   ]
  },
  {
   "cell_type": "code",
   "execution_count": 33,
   "metadata": {},
   "outputs": [
    {
     "data": {
      "text/plain": [
       "<AxesSubplot:xlabel='database', ylabel='n_token'>"
      ]
     },
     "execution_count": 33,
     "metadata": {},
     "output_type": "execute_result"
    },
    {
     "data": {
      "image/png": "[encoded data removed]",
      "text/plain": [
       "<Figure size 432x288 with 1 Axes>"
      ]
     },
     "metadata": {
      "needs_background": "light"
     },
     "output_type": "display_data"
    }
   ],
   "source": [
    "sns.boxplot(\n",
    "    data=tokenCountFrSourceDbDf,\n",
    "    y='n_token',\n",
    "    x='database'\n",
    ")"
   ]
  },
  {
   "cell_type": "markdown",
   "metadata": {},
   "source": [
    "Harris center is the worst in terms of sentence tokenizing."
   ]
  },
  {
   "cell_type": "code",
   "execution_count": 39,
   "metadata": {},
   "outputs": [
    {
     "data": {
      "text/html": [
       "<div>\n",
       "<style scoped>\n",
       "    .dataframe tbody tr th:only-of-type {\n",
       "        vertical-align: middle;\n",
       "    }\n",
       "\n",
       "    .dataframe tbody tr th {\n",
       "        vertical-align: top;\n",
       "    }\n",
       "\n",
       "    .dataframe thead th {\n",
       "        text-align: right;\n",
       "    }\n",
       "</style>\n",
       "<table border=\"1\" class=\"dataframe\">\n",
       "  <thead>\n",
       "    <tr style=\"text-align: right;\">\n",
       "      <th></th>\n",
       "      <th>database</th>\n",
       "      <th>sentence</th>\n",
       "      <th>n_token</th>\n",
       "    </tr>\n",
       "  </thead>\n",
       "  <tbody>\n",
       "    <tr>\n",
       "      <th>3825824</th>\n",
       "      <td>shaip</td>\n",
       "      <td>upon challenging her, it takes a significant a...</td>\n",
       "      <td>211</td>\n",
       "    </tr>\n",
       "    <tr>\n",
       "      <th>3897103</th>\n",
       "      <td>shaip</td>\n",
       "      <td>since he had already paid his money, he to thi...</td>\n",
       "      <td>197</td>\n",
       "    </tr>\n",
       "    <tr>\n",
       "      <th>3967719</th>\n",
       "      <td>shaip</td>\n",
       "      <td>the patient was last discharged range of motio...</td>\n",
       "      <td>158</td>\n",
       "    </tr>\n",
       "    <tr>\n",
       "      <th>3967763</th>\n",
       "      <td>shaip</td>\n",
       "      <td>he has to maintain a gpa of 3.2 to stay in his...</td>\n",
       "      <td>153</td>\n",
       "    </tr>\n",
       "    <tr>\n",
       "      <th>4852292</th>\n",
       "      <td>shaip</td>\n",
       "      <td>i am going to continue the same medications at...</td>\n",
       "      <td>164</td>\n",
       "    </tr>\n",
       "  </tbody>\n",
       "</table>\n",
       "</div>"
      ],
      "text/plain": [
       "        database                                           sentence  n_token\n",
       "3825824    shaip  upon challenging her, it takes a significant a...      211\n",
       "3897103    shaip  since he had already paid his money, he to thi...      197\n",
       "3967719    shaip  the patient was last discharged range of motio...      158\n",
       "3967763    shaip  he has to maintain a gpa of 3.2 to stay in his...      153\n",
       "4852292    shaip  i am going to continue the same medications at...      164"
      ]
     },
     "execution_count": 39,
     "metadata": {},
     "output_type": "execute_result"
    }
   ],
   "source": [
    "shaipLongSent = tokenCountFrSourceDbDf[(tokenCountFrSourceDbDf.database=='shaip') & (tokenCountFrSourceDbDf.n_token >=150)]\n",
    "shaipLongSent.head()"
   ]
  },
  {
   "cell_type": "markdown",
   "metadata": {},
   "source": [
    "# Why does thc has such ridiculously long sentences"
   ]
  },
  {
   "cell_type": "markdown",
   "metadata": {},
   "source": [
    "* \\\\n next line chars \n",
    "* \\r\\n repetitions -> most probably point forms\n",
    "* ____________ underscores  "
   ]
  },
  {
   "cell_type": "code",
   "execution_count": 9,
   "metadata": {},
   "outputs": [
    {
     "data": {
      "text/plain": [
       "'INPERSON VISIT NOT AVAILBLE FOR REASON OF Covid 19, today\\'s routine follow up appointment was conducted via telephone\\r\\nthe client consented to a telephone appointment\\r\\nhe reports taking his medication daily as prescribed\\r\\nall medication is working well\\r\\nhis mood is stable\\r\\nhe denies mood swings and depression\\r\\nhe denies AVH, delusions and paranoia\\r\\nappetite and sleep pattern are intact\\r\\nenergy level and motivation are good\\r\\nthe current medication regimen is effective and there are no side effects\\r\\nhe denies SI/HI or any thought of harm to self or others\\r\\n\\r\\nhe has a transfer appointment scheduled for [DATE_5]\\r\\nhe has requested to begin therapy and counseling \\r\\nhe will begin therapy once transferred out of New START, as New START does not provide therapy\\r\\nhe is aware of this plan and agrees\\r\\n\\r\\n______________________________________________________________________________________\\r\\nINPERSON VISIT NOT AVAILBLE FOR REASON OF Covid 19, today\\'s routine follow up appointment was conducted via telephone\\r\\nthe client consented to a telephone appointment\\r\\n\\r\\ndaughter was hospitalizaed due to mental illness \\r\\nshe has been home now for about 2 days\\r\\nher meds were changed and she is doing better\\r\\nthe client reports that he was not doing well when his daughter was in the hospital\\r\\nhe felt highly anxious and mildly depressed while his daughter was hospitalized\\r\\nhe reports doing well now\\r\\nhe no longer feels depressed\\r\\nanxiety has resolved\\r\\nhis mood is stable\\r\\nhe denies AVH, delusions and paranoia\\r\\nhe sleeps \"pretty good since she\\'s been home\"\\r\\nappetite is good\\r\\nenergy level and motivation are good\\r\\nhe denies drug and alcohol use\\r\\n\\r\\nhe denies SI/HI or any thought of harm to self or others\\r\\n\\r\\nthe current medication regimen is effective and there are no side effects\\r\\n___________________________________________________________________________________\\r\\ndue to current agency protocol regarding Covid 19 safety precautions, today\\'s follow up visit was conducted via telephone\\r\\nthe client says he has been doing well\\r\\ndepression and all mood symptoms have been well managed\\r\\nhe denies feeling depressed\\r\\nhe denies AVH, delusions and paranoia\\r\\nhigh anxiety remains as issue however, he says the medication calms him well\\r\\nthe current medication regimen is effective and there are no side effects\\r\\nhe denies SI/HI or any thoughts of harm to self or others\\r\\n__________________________________________________________________________________\\r\\nhe reports that he is taking all medication daily as pre'"
      ]
     },
     "execution_count": 9,
     "metadata": {},
     "output_type": "execute_result"
    }
   ],
   "source": [
    "sampleLongText=tokenCountFrSourceDbDf[(tokenCountFrSourceDbDf.database=='thc') & (tokenCountFrSourceDbDf.n_token >=1750)].sentence[2274188]\n",
    "sampleLongText[:2500]"
   ]
  },
  {
   "cell_type": "code",
   "execution_count": 29,
   "metadata": {},
   "outputs": [],
   "source": [
    "# !pip3 install spacy==3.2.4\n",
    "# !pip3 install https://s3-us-west-2.amazonaws.com/ai2-s2-scispacy/releases/v0.5.0/en_core_sci_scibert-0.5.0.tar.gz\n",
    "# !python -m spacy download en_core_web_trf\n",
    "# !python -m spacy download en_core_web_sm"
   ]
  },
  {
   "cell_type": "code",
   "execution_count": 11,
   "metadata": {},
   "outputs": [
    {
     "name": "stderr",
     "output_type": "stream",
     "text": [
      "User provided device_type of 'cuda', but CUDA is not available. Disabling\n"
     ]
    }
   ],
   "source": [
    "\n",
    "import spacy\n",
    "nlp=spacy.load(\"en_core_sci_scibert\")\n",
    "doc = nlp(\"input text\")\n",
    "cleaned_data=list(item.text for item in doc.sents)"
   ]
  },
  {
   "cell_type": "code",
   "execution_count": 14,
   "metadata": {},
   "outputs": [
    {
     "name": "stderr",
     "output_type": "stream",
     "text": [
      "User provided device_type of 'cuda', but CUDA is not available. Disabling\n"
     ]
    }
   ],
   "source": [
    "# breaking a long sentences takes 11secs\n",
    "doc = nlp(sampleLongText)\n",
    "cleaned_data_en_core_sci_scibert=list(item.text for item in doc.sents)"
   ]
  },
  {
   "cell_type": "code",
   "execution_count": 25,
   "metadata": {},
   "outputs": [
    {
     "data": {
      "text/plain": [
       "'INPERSON VISIT NOT AVAILBLE FOR REASON OF Covid 19, today\\'s routine follow up appointment was conducted via telephone\\r\\nthe client consented to a telephone appointment\\r\\nhe reports taking his medication daily as prescribed\\r\\nall medication is working well\\r\\nhis mood is stable\\r\\nhe denies mood swings and depression\\r\\nhe denies AVH, delusions and paranoia\\r\\nappetite and sleep pattern are intact\\r\\nenergy level and motivation are good\\r\\nthe current medication regimen is effective and there are no side effects\\r\\nhe denies SI/HI or any thought of harm to self or others\\r\\n\\r\\nhe has a transfer appointment scheduled for [DATE_5]\\r\\nhe has requested to begin therapy and counseling \\r\\nhe will begin therapy once transferred out of New START, as New START does not provide therapy\\r\\nhe is aware of this plan and agrees\\r\\n\\r\\n \\n \\r\\nINPERSON VISIT NOT AVAILBLE FOR REASON OF Covid 19, today\\'s routine follow up appointment was conducted via telephone\\r\\nthe client consented to a telephone appointment\\r\\n\\r\\ndaughter was hospitalizaed due to mental illness \\r\\nshe has been home now for about 2 days\\r\\nher meds were changed and she is doing better\\r\\nthe client reports that he was not doing well when his daughter was in the hospital\\r\\nhe felt highly anxious and mildly depressed while his daughter was hospitalized\\r\\nhe reports doing well now\\r\\nhe no longer feels depressed\\r\\nanxiety has resolved\\r\\nhis mood is stable\\r\\nhe denies AVH, delusions and paranoia\\r\\nhe sleeps \"pretty good since she\\'s been home\"\\r\\nappetite is good\\r\\nenergy level and motivation are good\\r\\nhe denies drug and alcohol use\\r\\n\\r\\nhe denies SI/HI or any thought of harm to self or others\\r\\n\\r\\nthe current medication regimen is effective and there are no side effects\\r\\n \\n \\r\\ndue to current agency protocol regarding Covid 19 safety precautions, today\\'s follow up visit was conducted via telephone\\r\\nthe client says he has been doing well\\r\\ndepression and all mood symptoms have been well managed\\r\\nhe denies feeling depressed\\r\\nhe denies AVH, delusions and paranoia\\r\\nhigh anxiety remains as issue however, he says the medication calms him well\\r\\nthe current medication regimen is effective and there are no side effects\\r\\nhe denies SI/HI or any thoughts of harm to self or others\\r\\n \\n \\r\\nhe reports that he is taking all medication daily as prescribed\\r\\nhis depressive and anxiety symptoms have improved\\r\\nhe no longer feels depressed\\r\\nanixtey comes and goes but is well managed\\r\\nhe continues to experience AH which he says have always been there and \"will never go away\"\\r\\nhe denies AVH today\\r\\nhe denies command or persucatory voices\\r\\n he eats and sleeps well\\r\\nmood is stable\\r\\nhe denies feeling paranoid or delusional and there is no evidence that he is paranoid or delusional today\\r\\nhe denies SI/HI or any thought  of harm to self or others\\r\\n\\r\\nhe confirms that Nurse [NAME_2] phoned him and informed him re his abnormal lab results\\r\\nhe has a gold card but has not followed up with his PCP\\r\\ni discussed with him all lab results and the possible risks if he does not see his PCP for treatment\\r\\nhe says \" i\\'ll make an appointment\"\\r\\n\\r\\n\\r\\n \\n \\r\\nhe reports feeling higly anxious over the holidays\\r\\nhe has a small house and had numerous family members over\\r\\nhe has 7 children and 2 grandchildren and a host of siblings, neices and nephews who all came for the holidays\\r\\nhe had difficulty calming his anxiety and says he still struggles everyday with anxiety\\r\\nHydroxyzine helps, but not significantly\\r\\nhe says Propranolol helps to calm his night time anxiety\\r\\n\\r\\nhe feels depressed\\r\\n\" �\\'ve been hearing the voices too\"\\r\\nhe says the holidays trigger his symptoms because he misses his mom who passed away \"some years back\"\\r\\nhe rates his depression a 6 on a 1-10 scale where 1 is mild depression and 10 is severe\\r\\nhe denies any thought of harm to self or others\\r\\n\\r\\nhe has trouble falling asleep and staying asleep\\r\\n\" i take cat naps all night\"\\r\\nsleep is of poor quality\\r\\nhe hears voices talking about his mom\\r\\nvoices tell him he should have been a better child\\r\\nhe denies VH, delusions and paranoia\\r\\nappetite is good\\r\\nenergy level is good\\r\\nhe denies drug and alcohol use\\r\\n\\r\\nthis client would benefit from therapy and counseling for symptom recognition and  help in learning to manage daily responsibilities; assistance in developing and strengthening coping skills, social skills\\r\\ni discussed with the client the need for therapy and he agrees\\r\\n\\r\\nwill increase Hydroxyzine today to calm anxiety and will increase Remeron to help with sleep and depression\\r\\n\\r\\nhe denies SI/HI\\r\\n\\r\\n \\n \\r\\nhe says \"i\\'m doing so goog\"\\r\\n\"hearing the voices but not as much\"\\r\\nhe denies command or persucatory voices \\r\\nhe denies VH\\r\\nhe says his anxiety is well controlled\\r\\nwhen asked if he feels depressed, he responds, \"not really, no\"\\r\\nhe denies mood swings, anger and aggression\\r\\nhe deneis any mood issues at all\\r\\n\\r\\nhe denies psychosis and delusions\\r\\n\\r\\n\\r\\nhe denies drug and alcohol use\\r\\nsays he has been clean since he got out of CRU\\r\\n[DATE_2] UDS is + for Cannabinoids but he endorses that he is clean now and no longer using\\r\\nhe denies drug cravings\\r\\nhe reports going to AA atleast 3 times weekly which he says is helpful\\r\\n\\r\\nhe is sleeping a full 8 hours\\r\\n\"these medications are helping me sleep\"\\r\\n\\r\\nhe says things with his daughter have improved\\r\\nshe is now taking Seroquel and she has been stable\\r\\nthe client reports that he is doing better now that his stress level and worry re his daughter have decreased\\r\\n he denies thoughts of suicide\\r\\nhe denies SI/HI\\r\\n \\n \\r\\n[NAME_3] arrives today after discharge from [LOCATION_2] on [DATE_6]\\r\\nhe reports that he went to [LOCATION_3] in September 2019 bceause he was suicidal with plan to \"die by cop\"\\r\\nand he was depressed and experiencing mood swings\\r\\nhe says he was then transferred to [LOCATION_4] and then to [LOCATION_2] where he stayed for 14 days\\r\\nhe was discharged from [LOCATION_2] on [DATE_6]\\r\\nhe is now taking Risperdal, Hydroxyzine, Propranolol and Remeron which he says works well without side effects\\r\\n\\r\\nhis mood is stable\\r\\nhe is no longer suicidal\\r\\ndepression comes and goes but is improving\\r\\non his worse day he rates depression 8 or 9 on a 1-10 scale\\r\\nwhere 1= little depression and 10 is severe depression\\r\\nhe says on a good day like today, he rates the depression a 3-4\\r\\n\\r\\nhe says AVH are not improving\\r\\nhe hears voices and sees his dead friends everyday\\r\\nvoices are persucatory and derogatory\\r\\nenergy level has been good\\r\\nhe focuses well\\r\\nhe sleeps well without Benadryl\\r\\n\\r\\nhe admits to cocaine and THC use prior to going to [LOCATION_5] in September but says he has been clean and sober for almost a month\\r\\nhe had been clean and sober for 2 years before this relapse\\r\\nhe says the stresses at home with his mentally ill daughter caused him to relapse\\r\\nhe denies use now and denies cravings\\r\\n\\r\\nwill increase Risperdal per his request, for better management of AVH\\r\\nwill also refer to outpatient rehab to assist him in staying clean\\r\\n\\r\\nhe denies SI/HI or any thoughts of harm to self or others\\r\\n\\r\\n\\r\\n\\r\\n\\r\\n \\n \\r\\npatient says he is doing well overall\\r\\nhe feels down some days related to his daughter\\'s mental health issues\\r\\nhe says his daughter has been manic and has had meds changed to stabilize her\\r\\nhe worries about his daughter and feels \"down and out\"\\r\\nbut says he does have more good days than bad days\\r\\nhe denies major depression or any thoughts of self harm\\r\\nhe denies AVH\\r\\nhe is sleeping well\\r\\nhe reports that he relapsed one time a few weeks ago on THC due to the stresses with his daughter\\r\\nhe says his PO is aware\\r\\nhe denies any other drug or alcohol use and says he is committed to staying clean\\r\\n\\r\\nhe denies SI/HI or any thoughts of harm to self or others\\r\\nthe current medication regimen is effective and there are no side effects\\r\\n\\r\\n \\n \\r\\npatient says he is doing much better\\r\\nhe is no longer depressed\\r\\nhis mood is stable\\r\\nhe denies mood swings, anger  and rages\\r\\nhe continues to expreience AVH every 2 days or so but AVH occur less often\\r\\nhe denies command or persucatory voices\\r\\nhe continues to experience nightmares every night but they are less intense\\r\\nhe requests an increase in Prazosin stating he has noticed small improvent since he started taking it\\r\\n\\r\\nhe eats well\\r\\nsays he does get enough sleep , even with the night mares\\r\\nhe denies SI/HI or any thoughts of harm to self or others\\r\\n\\r\\npatient is stable and doing well overall on the current med regimen and he denies any side effects\\r\\n\\r\\n \\n \\r\\n[DATE_7]\\r\\nthis is a 39 yr old Hispanic male\\r\\nhe reports that he became suicidal this past weekend\\r\\nvoices were out of control\\r\\nvoices were louder tahn usual\\r\\n telling him that his daughter\\'s mental issues are his fault\\r\\ntelling him to kill self \"by cop\"\\r\\nwhich means do somthing that will cause the police to shoot him\\r\\nhe went to NPC on [DATE_8]\\r\\nNPC was full and could not accept him\\r\\nhe then went to [LOCATION_6]\\r\\nhe was there a  few days and then released\\r\\nAbilify was increased to 10mg 3 tablets\\r\\nwhich he is taking now\\r\\nhe says he no longer hears the voices and is no longer suicidal\\r\\nhe is no longer depressed \\r\\nsays he is thinking more clearly and logically\\r\\nsays he is soing much better emotionally\\r\\n\\r\\nhe was taking Trazodone 50mg but still not sleeping\\r\\nhas trouble falling and staying asleep\\r\\nhe increased to 2 tablets (100mg) which has worked better\\r\\nhe has nightmares when he does sleep so sleeps only 2-3 hours \\r\\nhe is sleeping better but still experiencing nightmares\\r\\n\\r\\nhe has night mares of his daughter cutting and killing herself\\r\\n[NAME_4] sent him home with a paper Rx for Prazosin which he brought in today\\r\\nhe did not fill yet\\r\\nrequetsed that I fill today\\r\\n\\r\\nwill have him D/C Trazodone while taking Prazosin to avoid med interaction/priapism\\r\\nwill have him begin Prazosin before bed time  to help with sleep/nightmares\\r\\nwill also have him decrease Propranolol to once daily in the am instead of BID\\r\\nso as not to affect his BP while taking Prazosin\\r\\n\\r\\ni educated him re all medications including Prazosin for nightmares \\r\\nand Propranolol which he takes for anxiety\\r\\ni instructed him not to take Prazosin and Propranolol together\\r\\ntake Propranolol in the am\\r\\nand Prazosin at night\\r\\nand to monitor his BP daily\\r\\nhe knows to call with any questions, concerns or side effects\\r\\n\\r\\nwill conttinue to monitor him closely for efficacy and side effetcs\\r\\n\\r\\nhe denies SI/HI or any thoughts of harm to self or others\\r\\nhe has no plan or intent to harm himself \\r\\nhe assures me that he would  not harm himself because he loves his family too much\\r\\n\\r\\n\\r\\n[DATE_9]\\r\\nThis 39-yr-old HM was seen today in f/u for the following:\\r\\n1.'"
      ]
     },
     "execution_count": 25,
     "metadata": {},
     "output_type": "execute_result"
    }
   ],
   "source": [
    "re.sub(\"_{3,}\", ' \\n ', sampleLongText)"
   ]
  },
  {
   "cell_type": "code",
   "execution_count": 26,
   "metadata": {},
   "outputs": [
    {
     "name": "stderr",
     "output_type": "stream",
     "text": [
      "User provided device_type of 'cuda', but CUDA is not available. Disabling\n"
     ]
    }
   ],
   "source": [
    "doc = nlp(re.sub(\"_{3,}\", ' \\n ', sampleLongText))\n",
    "cleaned_data_en_core_sci_scibert_removed_us__=list(item.text for item in doc.sents)"
   ]
  },
  {
   "cell_type": "markdown",
   "metadata": {},
   "source": [
    "Using web_trf"
   ]
  },
  {
   "cell_type": "code",
   "execution_count": 18,
   "metadata": {},
   "outputs": [],
   "source": [
    "en_core_web_trf = spacy.load(\"en_core_web_trf\")"
   ]
  },
  {
   "cell_type": "code",
   "execution_count": 19,
   "metadata": {},
   "outputs": [],
   "source": [
    "doc = en_core_web_trf(sampleLongText)\n",
    "cleaned_data_en_core_web_trf=list(item.text for item in doc.sents)"
   ]
  },
  {
   "cell_type": "code",
   "execution_count": 30,
   "metadata": {},
   "outputs": [],
   "source": [
    "en_core_web_sm = spacy.load(\"en_core_web_sm\")"
   ]
  },
  {
   "cell_type": "code",
   "execution_count": 31,
   "metadata": {},
   "outputs": [],
   "source": [
    "doc = en_core_web_sm(sampleLongText)\n",
    "cleaned_data_en_core_web_sm=list(item.text for item in doc.sents)"
   ]
  },
  {
   "cell_type": "markdown",
   "metadata": {},
   "source": [
    "# Download the notes"
   ]
  },
  {
   "cell_type": "code",
   "execution_count": null,
   "metadata": {},
   "outputs": [],
   "source": [
    "# about 1min for 11Million rows\n",
    "tokenCountFrSourceDbDfPath = Path('tokenCountFrSourceDbDf.csv')\n",
    "\n",
    "if not tokenCountFrSourceDbDfPath.exists():\n",
    "    tokenCountFrSourceDb = pgIO.getDataIterator(\n",
    "        query=f'''\n",
    "        SELECT \n",
    "            sentences.database, \n",
    "            sentences.sentence, \n",
    "            sentences.n_token\n",
    "        FROM v1_nlp.sentences\n",
    "        ; \n",
    "        ''',\n",
    "        dbName='NLP_CDM',\n",
    "        chunks=10000,\n",
    "    )\n",
    "    alldata = chain(*tokenCountFrSourceDb)\n",
    "\n",
    "    tokenCountFrSourceDbDf = pd.DataFrame(\n",
    "        alldata,\n",
    "        columns=['database','sentence', 'n_token'],\n",
    "    )\n",
    "    tokenCountFrSourceDbDf.to_csv(\n",
    "        tokenCountFrSourceDbDfPath,\n",
    "        index=False\n",
    "    )\n",
    "else:\n",
    "    tokenCountFrSourceDbDf = pd.read_csv(\n",
    "        tokenCountFrSourceDbDfPath,\n",
    "    )"
   ]
  }
 ],
 "metadata": {
  "kernelspec": {
   "display_name": "Python 3.10.5 ('env_shaomin': venv)",
   "language": "python",
   "name": "python3"
  },
  "language_info": {
   "codemirror_mode": {
    "name": "ipython",
    "version": 3
   },
   "file_extension": ".py",
   "mimetype": "text/x-python",
   "name": "python",
   "nbconvert_exporter": "python",
   "pygments_lexer": "ipython3",
   "version": "3.10.5"
  },
  "orig_nbformat": 4,
  "vscode": {
   "interpreter": {
    "hash": "ff7f4a16de5fc21702ceddc1a5d902db7f7cea5936a77ee815b5dac9eb70aa25"
   }
  }
 },
 "nbformat": 4,
 "nbformat_minor": 2
}
