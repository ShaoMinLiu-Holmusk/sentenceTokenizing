{
 "cells": [
  {
   "cell_type": "code",
   "execution_count": 5,
   "metadata": {},
   "outputs": [
    {
     "name": "stderr",
     "output_type": "stream",
     "text": [
      "0it [00:00, ?it/s]\n"
     ]
    }
   ],
   "source": [
    "import pandas as pd\n",
    "from pathlib import Path\n",
    "import seaborn as sns\n",
    "\n",
    "import os\n",
    "\n",
    "os.environ[\"DB_PATH\"]='../../../db.json'\n",
    "from neuroblu_postgres.databaseIO import pgIO\n",
    "\n",
    "import spacy\n",
    "nlp=spacy.load(\"en_core_sci_scibert\")\n",
    "def tokeniseUsingSciSpacy(sentence):\n",
    "    doc = nlp(sentence)\n",
    "    cleaned_data=list(item.text for item in doc.sents)\n",
    "    return cleaned_data\n",
    "from nltk.tokenize import sent_tokenize\n",
    "\n",
    "from tqdm import tqdm\n",
    "tqdm().pandas()"
   ]
  },
  {
   "cell_type": "code",
   "execution_count": 6,
   "metadata": {},
   "outputs": [],
   "source": [
    "import re"
   ]
  },
  {
   "cell_type": "code",
   "execution_count": 22,
   "metadata": {},
   "outputs": [],
   "source": [
    "def cleanNote(text:str):\n",
    "    '''\n",
    "    Given a clinician note, attempt to clean it by remove irrelevant \n",
    "    line breaks, characters that will affect sentence tokenization.\n",
    "    '''\n",
    "    text = re.sub(pattern=';',\n",
    "                  repl=\" \\r\\n \",\n",
    "                  string=text)\n",
    "    \n",
    "    text = re.sub(pattern='[-_\\s=+\\r\\n]{3,}',\n",
    "                  repl=\"\\r\\n\",\n",
    "                  string=text)\n",
    "    \n",
    "    return text\n",
    "\n",
    "\n",
    "from NoteToSent.noteToSent import sentenceTokenizer"
   ]
  },
  {
   "cell_type": "code",
   "execution_count": 8,
   "metadata": {},
   "outputs": [
    {
     "data": {
      "text/plain": [
       "[\"\\n                      Also has constipoation which I told her she could try Senokot-S. Did state there are things that make her laugh, but couldn't tell me what.\",\n",
       " 'Also very interesting experience here \\r\\nThings that I like were here.',\n",
       " 'This is interesting\\r\\nI lied to them yesterday.',\n",
       " 'This is interesting \\r\\n I lied to them yesterday.']"
      ]
     },
     "execution_count": 8,
     "metadata": {},
     "output_type": "execute_result"
    }
   ],
   "source": [
    "x ='''\n",
    "                      Also has constipoation which I told her she could try Senokot-S. Did state there are things that make her laugh, but couldn't tell me what.\n",
    "                      \n",
    "                      Also very interesting experience here \\r\\nThings that I like were here.\n",
    "                      This is interesting\\r\\nI lied to them yesterday.\n",
    "                      This is interesting \\r\\n I lied to them yesterday.\n",
    "                      '''\n",
    "sent_tokenize(x)"
   ]
  },
  {
   "cell_type": "code",
   "execution_count": 9,
   "metadata": {},
   "outputs": [
    {
     "name": "stderr",
     "output_type": "stream",
     "text": [
      "User provided device_type of 'cuda', but CUDA is not available. Disabling\n"
     ]
    },
    {
     "data": {
      "text/plain": [
       "[\"\\n                      Also has constipoation which I told her she could try Senokot-S. Did state there are things that make her laugh, but couldn't tell me what.\\n                      \\n                      Also very interesting experience here \\r\\nThings that I like were here.\\n                      \",\n",
       " 'This is interesting',\n",
       " '\\r\\nI lied to them yesterday.',\n",
       " '\\n                      This is interesting \\r\\n I lied to them yesterday.',\n",
       " '\\n                      ']"
      ]
     },
     "execution_count": 9,
     "metadata": {},
     "output_type": "execute_result"
    }
   ],
   "source": [
    "tokeniseUsingSciSpacy(x)"
   ]
  },
  {
   "cell_type": "code",
   "execution_count": 10,
   "metadata": {},
   "outputs": [
    {
     "name": "stdout",
     "output_type": "stream",
     "text": [
      "[\"\\n                      Also has constipoation which I told her she could try Senokot-S. Did state there are things that make her laugh, but couldn't tell me what.\"]\n",
      "['Also very interesting experience here \\r\\nThings that I like were here.']\n",
      "['This is interesting', '\\r\\nI lied to them yesterday.']\n",
      "['This is interesting', '\\r\\n I lied to them yesterday.']\n"
     ]
    }
   ],
   "source": [
    "for each in sent_tokenize(x):\n",
    "    print(tokeniseUsingSciSpacy(each))"
   ]
  },
  {
   "cell_type": "code",
   "execution_count": 11,
   "metadata": {},
   "outputs": [
    {
     "data": {
      "text/plain": [
       "[\"\\r\\nAlso has constipoation which I told her she could try Senokot-S. Did state there are things that make her laugh, but couldn't tell me what.\",\n",
       " 'Also very interesting experience here\\r\\nThings that I like were here.',\n",
       " 'This is interesting\\r\\nI lied to them yesterday.',\n",
       " 'This is interesting\\r\\nI lied to them yesterday.']"
      ]
     },
     "execution_count": 11,
     "metadata": {},
     "output_type": "execute_result"
    }
   ],
   "source": [
    "sent_tokenize(cleanNote(x))"
   ]
  },
  {
   "cell_type": "code",
   "execution_count": 12,
   "metadata": {},
   "outputs": [
    {
     "name": "stderr",
     "output_type": "stream",
     "text": [
      "User provided device_type of 'cuda', but CUDA is not available. Disabling\n"
     ]
    },
    {
     "data": {
      "text/plain": [
       "[\"\\r\\nAlso has constipoation which I told her she could try Senokot-S. Did state there are things that make her laugh, but couldn't tell me what.\\r\\nAlso very interesting experience here\\r\\nThings that I like were here.\\r\\n\",\n",
       " 'This is interesting',\n",
       " '\\r\\nI lied to them yesterday.',\n",
       " '\\r\\nThis is interesting\\r\\nI lied to them yesterday.',\n",
       " '\\r\\n']"
      ]
     },
     "execution_count": 12,
     "metadata": {},
     "output_type": "execute_result"
    }
   ],
   "source": [
    "tokeniseUsingSciSpacy(cleanNote(x))"
   ]
  },
  {
   "cell_type": "code",
   "execution_count": 13,
   "metadata": {},
   "outputs": [
    {
     "name": "stdout",
     "output_type": "stream",
     "text": [
      "[\"\\r\\nAlso has constipoation which I told her she could try Senokot-S. Did state there are things that make her laugh, but couldn't tell me what.\"]\n",
      "['Also very interesting experience here\\r\\nThings that I like were here.']\n",
      "['This is interesting', '\\r\\nI lied to them yesterday.']\n",
      "['This is interesting', '\\r\\nI lied to them yesterday.']\n"
     ]
    }
   ],
   "source": [
    "for each in sent_tokenize(cleanNote(x)):\n",
    "    print(tokeniseUsingSciSpacy(each))"
   ]
  },
  {
   "cell_type": "code",
   "execution_count": 16,
   "metadata": {},
   "outputs": [
    {
     "data": {
      "text/plain": [
       "['\\r',\n",
       " \"Also has constipoation which I told her she could try Senokot-S. Did state there are things that make her laugh, but couldn't tell me what.\\r\",\n",
       " 'Also very interesting experience here\\r',\n",
       " 'Things that I like were here.\\r',\n",
       " 'This is interesting\\r',\n",
       " 'I lied to them yesterday.\\r',\n",
       " 'This is interesting\\r',\n",
       " 'I lied to them yesterday.\\r',\n",
       " '']"
      ]
     },
     "execution_count": 16,
     "metadata": {},
     "output_type": "execute_result"
    }
   ],
   "source": [
    "cleanNote(x).split('\\n')\n"
   ]
  },
  {
   "cell_type": "code",
   "execution_count": null,
   "metadata": {},
   "outputs": [],
   "source": []
  },
  {
   "cell_type": "code",
   "execution_count": 19,
   "metadata": {},
   "outputs": [
    {
     "data": {
      "text/plain": [
       "(9167, 7)"
      ]
     },
     "metadata": {},
     "output_type": "display_data"
    },
    {
     "data": {
      "text/html": [
       "<div>\n",
       "<style scoped>\n",
       "    .dataframe tbody tr th:only-of-type {\n",
       "        vertical-align: middle;\n",
       "    }\n",
       "\n",
       "    .dataframe tbody tr th {\n",
       "        vertical-align: top;\n",
       "    }\n",
       "\n",
       "    .dataframe thead th {\n",
       "        text-align: right;\n",
       "    }\n",
       "</style>\n",
       "<table border=\"1\" class=\"dataframe\">\n",
       "  <thead>\n",
       "    <tr style=\"text-align: right;\">\n",
       "      <th></th>\n",
       "      <th>patient_encounter_id</th>\n",
       "      <th>header</th>\n",
       "      <th>section</th>\n",
       "      <th>nltk_break</th>\n",
       "      <th>nltk_break_order</th>\n",
       "      <th>sciSpacy_break</th>\n",
       "      <th>SciSpacedSentenceIdex</th>\n",
       "    </tr>\n",
       "  </thead>\n",
       "  <tbody>\n",
       "    <tr>\n",
       "      <th>0</th>\n",
       "      <td>1439220</td>\n",
       "      <td>22507</td>\n",
       "      <td>pt accompanied by his mother , his new persona...</td>\n",
       "      <td>pt accompanied by his mother , his new persona...</td>\n",
       "      <td>1.0</td>\n",
       "      <td>pt accompanied by his mother , his new persona...</td>\n",
       "      <td>1</td>\n",
       "    </tr>\n",
       "    <tr>\n",
       "      <th>1</th>\n",
       "      <td>1439220</td>\n",
       "      <td>22507</td>\n",
       "      <td>pt accompanied by his mother , his new persona...</td>\n",
       "      <td>pt accompanied by his mother , his new persona...</td>\n",
       "      <td>1.0</td>\n",
       "      <td>&amp; cw pt was recently hosp at [LOCATION_3] [DAT...</td>\n",
       "      <td>2</td>\n",
       "    </tr>\n",
       "    <tr>\n",
       "      <th>2</th>\n",
       "      <td>1439220</td>\n",
       "      <td>22507</td>\n",
       "      <td>pt accompanied by his mother , his new persona...</td>\n",
       "      <td>pt accompanied by his mother , his new persona...</td>\n",
       "      <td>1.0</td>\n",
       "      <td>&amp; stated he made this false statement in order...</td>\n",
       "      <td>3</td>\n",
       "    </tr>\n",
       "    <tr>\n",
       "      <th>3</th>\n",
       "      <td>1439220</td>\n",
       "      <td>22507</td>\n",
       "      <td>pt accompanied by his mother , his new persona...</td>\n",
       "      <td>pt accompanied by his mother , his new persona...</td>\n",
       "      <td>1.0</td>\n",
       "      <td>&amp; once again discussed that it is crucial for ...</td>\n",
       "      <td>4</td>\n",
       "    </tr>\n",
       "    <tr>\n",
       "      <th>4</th>\n",
       "      <td>1474333</td>\n",
       "      <td>22507</td>\n",
       "      <td>pt reported he has not been doing well b/c he ...</td>\n",
       "      <td>pt reported he has not been doing well b/c he ...</td>\n",
       "      <td>1.0</td>\n",
       "      <td>pt reported he has not been doing well b/c he ...</td>\n",
       "      <td>1</td>\n",
       "    </tr>\n",
       "  </tbody>\n",
       "</table>\n",
       "</div>"
      ],
      "text/plain": [
       "   patient_encounter_id  header  \\\n",
       "0               1439220   22507   \n",
       "1               1439220   22507   \n",
       "2               1439220   22507   \n",
       "3               1439220   22507   \n",
       "4               1474333   22507   \n",
       "\n",
       "                                             section  \\\n",
       "0  pt accompanied by his mother , his new persona...   \n",
       "1  pt accompanied by his mother , his new persona...   \n",
       "2  pt accompanied by his mother , his new persona...   \n",
       "3  pt accompanied by his mother , his new persona...   \n",
       "4  pt reported he has not been doing well b/c he ...   \n",
       "\n",
       "                                          nltk_break  nltk_break_order  \\\n",
       "0  pt accompanied by his mother , his new persona...               1.0   \n",
       "1  pt accompanied by his mother , his new persona...               1.0   \n",
       "2  pt accompanied by his mother , his new persona...               1.0   \n",
       "3  pt accompanied by his mother , his new persona...               1.0   \n",
       "4  pt reported he has not been doing well b/c he ...               1.0   \n",
       "\n",
       "                                      sciSpacy_break  SciSpacedSentenceIdex  \n",
       "0  pt accompanied by his mother , his new persona...                      1  \n",
       "1  & cw pt was recently hosp at [LOCATION_3] [DAT...                      2  \n",
       "2  & stated he made this false statement in order...                      3  \n",
       "3  & once again discussed that it is crucial for ...                      4  \n",
       "4  pt reported he has not been doing well b/c he ...                      1  "
      ]
     },
     "execution_count": 19,
     "metadata": {},
     "output_type": "execute_result"
    }
   ],
   "source": [
    "data = pd.read_csv('breakingFromResponseTable/responSectionTextsDf_nltkSciSpacy_break.csv')\n",
    "display(data.shape)\n",
    "data.head()"
   ]
  },
  {
   "cell_type": "code",
   "execution_count": 30,
   "metadata": {},
   "outputs": [
    {
     "data": {
      "text/plain": [
       "<AxesSubplot:xlabel='sciSpacy_break'>"
      ]
     },
     "execution_count": 30,
     "metadata": {},
     "output_type": "execute_result"
    },
    {
     "data": {
      "image/png": "[encoded data removed]",
      "text/plain": [
       "<Figure size 432x288 with 1 Axes>"
      ]
     },
     "metadata": {
      "needs_background": "light"
     },
     "output_type": "display_data"
    }
   ],
   "source": [
    "sns.boxplot(x=data.sciSpacy_break.str.count(' '))"
   ]
  },
  {
   "cell_type": "code",
   "execution_count": 27,
   "metadata": {},
   "outputs": [
    {
     "name": "stderr",
     "output_type": "stream",
     "text": [
      "100%|██████████| 9167/9167 [00:01<00:00, 6401.47it/s]\n"
     ]
    }
   ],
   "source": [
    "newSent = data.sciSpacy_break.progress_apply(\n",
    "    lambda sent: list(sentenceTokenizer(cleanNote(sent), scibert=False))\n",
    ")"
   ]
  },
  {
   "cell_type": "code",
   "execution_count": 29,
   "metadata": {},
   "outputs": [
    {
     "data": {
      "text/plain": [
       "<AxesSubplot:xlabel='sciSpacy_break'>"
      ]
     },
     "execution_count": 29,
     "metadata": {},
     "output_type": "execute_result"
    },
    {
     "data": {
      "image/png": "[encoded data removed]",
      "text/plain": [
       "<Figure size 432x288 with 1 Axes>"
      ]
     },
     "metadata": {
      "needs_background": "light"
     },
     "output_type": "display_data"
    }
   ],
   "source": [
    "\n",
    "sns.boxplot(x=newSent.explode().str.count(' '))"
   ]
  },
  {
   "cell_type": "code",
   "execution_count": 32,
   "metadata": {},
   "outputs": [],
   "source": [
    "newSentDf = newSent.explode().reset_index()\n",
    "newSentDf['nToken']=newSentDf.sciSpacy_break.str.count(' ')"
   ]
  },
  {
   "cell_type": "code",
   "execution_count": 37,
   "metadata": {},
   "outputs": [
    {
     "data": {
      "text/plain": [
       "\"he is going to school to finish associate degree in automotive, in spring semester, working on getting financial assisstance calm and cooperative, came along way compared to how he was two years ago [DATE_8] no changes in meds last visit, reports doing well on the higher dose of wellbutrin, overwhelmed hiself with course, took 5 and failed three, he will have to repeat them was referred to therapy, has not started yet [DATE_9] was seen last visit at the nurse's office and complained of inc depression dt to mareital conflict, wellbutrin was inc, was discussed in staff, wife i older and has multiple medical problems, no intersted in sex, he cheated on her because of that and had lots of guilt feeling he reports that incresing the wellbutrin has made a big difference, not depressed, much better focusing no SI/HI or pyshosis [DATE_10] This is 44 y/o [NAME_2] who has a history of Bipolar DO, PTSD, PSD, has been sober and clean, today he reports he continues to do very well and denied any side effects,no change in meds, continues to work while going to school,stable mood, compliant with meds and AA meetings [DATE_11] This is 44 y/o HM who has a history of Bipolar DO, PTSD, PSD, has been sober and clean, no change from last visit, stable mood, compliant with meds and AA meetings , offered assisstant manager whre he is working,in his school program, profesor is assigning new students to him to help him no SI/HI or psychosis [DATE_12] This is 44 y/o [NAME_2] who has a history of Bipolar DO, PTSD, PSD, has been sober and clean, stable on meds, no side effects, no SI/HI or psychosis, cont to have occaisonal nigyhtmares every once in a whiole, graduated fomr HCC and got a part time while continueing to study for a further mechanic degree reports he had an accident MVa in january, feels pain in nexk and numbness in hands, went for evaluation, referred to orthopedist will be presenting on behalf of DARS in a conference aimed to hiring people with disability, pt is a success story, made it to Dean's list in school [DATE_13] This is 44 y/o [NAME_2] who has a history of Bipolar DO, PTSD, PSD, has been sober, stable no changes in meds, no symptoms of depression, married, wound on face healed well (from an earlier dog assault) no ptsd symptoms, will be graduating automotive and paint certificate, very happy no SI/HI or psychosis [DATE_14] This is 44 y/o HM who has a history of Bipolar DO, PTSD, PSD, has been sober, stable for over a year now, doing very well, was intervied by channel 13 and was excieted about that wound has healed very well (dog bite) sig calmer hen when I first saw him no Si/HI or psychosis [DATE_15] This is 44 y/o HM who has a history of Bipolar DO, PTSD, PSD, has been sober, stable for over a year now, going to school at HCC for body shop and vehicle painting, doing very well, complains of hot weather, wound has healed very well (dog bite) sig calmer hen when I first saw him lives with wife supportive no Si/HI or psychosis going to the gym daily, advised to maintian hydration [DATE_16] This is 44 y/o HM who has a history of Bipolar DO, PTSD, PSD, has been sober, stable and doing great since finshing rehab 10 months ago and has registered in HCC for body shop and vehicle painting, full time student, finished his first semester, passed pt hd an accident when he got angry at the dog and kcked the dog who was fighting with another dog pt dog bit him in the face and pt had to get multiple stitches, reports it his fault and that he controls his anger much better but he lost it with his dog reports doing well and coping, wound healing dog was taken to [LOCATION_3] for 10 days to rule out rabies, pt refused to put the dog down as he realizes he kicked the dog first happy the dog is back [DATE_17] This is 44 y/o HM who has a history of Bipolar DO, PTSD, PSD, has been sober, stable and doing great since finshing rehab 8 months ago and has registered in HCC for body shop and vehicle painting, full time student, finished his first semester, passed no changes in meds reports doing much better with the extended release, no SI/HI or psychosis [DATE_18] This is 44 y/o HM who has a history of Bipolar DO, PTSD, PSD, has been sober, stable and doing great since finshing rehab 6 months ago and has registered in HCC for body shop and vehicle painting last visit switched from SR to XL of wellbutrin reports doing much better with the extended release, finsihed three courses,almost done with half of the courses DARS will provide him with tools no SI/HI or psychosis [DATE_19] This is 44 y/o HM who has a history of Bipolar DO, PTSD, PSD, has been sober, stable and doing great since finshing rehab 5 months ago and has registered in [LOCATION_4] for body shop and vehicle painting, follows up with DARS, feels meds still helping stable mood, no SI/HI or psychosis, 4 months sober and clean [DATE_20] This is 44 y/o HM who has a history of Bipolar DO, PTSD, PSD, has been sober, stable and doing great since finshing rehab 4 months ago.\""
      ]
     },
     "execution_count": 37,
     "metadata": {},
     "output_type": "execute_result"
    }
   ],
   "source": [
    "newSentDf.loc[newSentDf.nToken>800, 'sciSpacy_break'].iloc[2] # .count('.')"
   ]
  },
  {
   "cell_type": "code",
   "execution_count": null,
   "metadata": {},
   "outputs": [],
   "source": []
  }
 ],
 "metadata": {
  "kernelspec": {
   "display_name": "Python 3.10.5 ('env_shaomin')",
   "language": "python",
   "name": "python3"
  },
  "language_info": {
   "codemirror_mode": {
    "name": "ipython",
    "version": 3
   },
   "file_extension": ".py",
   "mimetype": "text/x-python",
   "name": "python",
   "nbconvert_exporter": "python",
   "pygments_lexer": "ipython3",
   "version": "3.10.5"
  },
  "orig_nbformat": 4,
  "vscode": {
   "interpreter": {
    "hash": "aa42932ab8f2e8e39c653093fcdc8e31f24fcb361cb3b9be95e4704bb6108f80"
   }
  }
 },
 "nbformat": 4,
 "nbformat_minor": 2
}
