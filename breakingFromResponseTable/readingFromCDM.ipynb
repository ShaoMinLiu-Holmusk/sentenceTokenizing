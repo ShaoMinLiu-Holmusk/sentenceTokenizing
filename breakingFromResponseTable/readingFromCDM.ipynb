{
 "cells": [
  {
   "cell_type": "code",
   "execution_count": 11,
   "metadata": {},
   "outputs": [],
   "source": [
    "import pandas as pd\n",
    "import seaborn as sns\n",
    "\n",
    "from itertools import chain\n",
    "from pathlib import Path\n",
    "\n",
    "import re\n",
    "\n",
    "import os\n",
    "os.environ[\"DB_PATH\"]='../../../db.json'\n",
    "from neuroblu_postgres.databaseIO import pgIO\n",
    "\n",
    "from nltk.tokenize import sent_tokenize\n",
    "\n",
    "from tqdm.notebook import tqdm"
   ]
  },
  {
   "cell_type": "markdown",
   "metadata": {},
   "source": [
    "# Reading from CDM - repsonse table"
   ]
  },
  {
   "cell_type": "code",
   "execution_count": 4,
   "metadata": {},
   "outputs": [],
   "source": [
    "# about 1min for 11Million rows\n",
    "responSectionTextsDfPath = Path('responSectionTexts.csv')\n",
    "\n",
    "if not responSectionTextsDfPath.exists():\n",
    "    responSectionTexts = pgIO.getDataIterator(\n",
    "        query=f'''\n",
    "        SELECT \n",
    "            response.trt_plan_id AS patient_encounter_id, \n",
    "            response.source_id AS header, \n",
    "            response.response AS section\n",
    "        FROM thc.response\n",
    "        ; \n",
    "        ''',\n",
    "        dbName='NLP_CDM',\n",
    "        chunks=10000,\n",
    "    )\n",
    "    \n",
    "    alldata = chain(*responSectionTexts)\n",
    "\n",
    "    responSectionTextsDf = pd.DataFrame(\n",
    "        alldata,\n",
    "        columns=['patient_encounter_id','header', 'section'],\n",
    "    )\n",
    "    responSectionTextsDf.to_csv(\n",
    "        responSectionTextsDfPath,\n",
    "        index=False\n",
    "    )\n",
    "else:\n",
    "    responSectionTextsDf = pd.read_csv(\n",
    "        responSectionTextsDfPath,\n",
    "    )"
   ]
  },
  {
   "cell_type": "code",
   "execution_count": 7,
   "metadata": {},
   "outputs": [
    {
     "data": {
      "text/html": [
       "<div>\n",
       "<style scoped>\n",
       "    .dataframe tbody tr th:only-of-type {\n",
       "        vertical-align: middle;\n",
       "    }\n",
       "\n",
       "    .dataframe tbody tr th {\n",
       "        vertical-align: top;\n",
       "    }\n",
       "\n",
       "    .dataframe thead th {\n",
       "        text-align: right;\n",
       "    }\n",
       "</style>\n",
       "<table border=\"1\" class=\"dataframe\">\n",
       "  <thead>\n",
       "    <tr style=\"text-align: right;\">\n",
       "      <th></th>\n",
       "      <th>patient_encounter_id</th>\n",
       "      <th>header</th>\n",
       "      <th>section</th>\n",
       "    </tr>\n",
       "  </thead>\n",
       "  <tbody>\n",
       "    <tr>\n",
       "      <th>0</th>\n",
       "      <td>1111796</td>\n",
       "      <td>2188</td>\n",
       "      <td>none</td>\n",
       "    </tr>\n",
       "    <tr>\n",
       "      <th>1</th>\n",
       "      <td>942804</td>\n",
       "      <td>3350</td>\n",
       "      <td>Auditory hallucinations have stopped. Denies b...</td>\n",
       "    </tr>\n",
       "    <tr>\n",
       "      <th>2</th>\n",
       "      <td>942804</td>\n",
       "      <td>24876</td>\n",
       "      <td>continue \\r\\nWelbutrin XL 300 mg in the morini...</td>\n",
       "    </tr>\n",
       "    <tr>\n",
       "      <th>3</th>\n",
       "      <td>942804</td>\n",
       "      <td>22507</td>\n",
       "      <td>Expressed concern about inability to work beca...</td>\n",
       "    </tr>\n",
       "    <tr>\n",
       "      <th>4</th>\n",
       "      <td>942804</td>\n",
       "      <td>0</td>\n",
       "      <td>Final Approved [DATE_1] 03:41PM by [NAME_1]\\r\\...</td>\n",
       "    </tr>\n",
       "  </tbody>\n",
       "</table>\n",
       "</div>"
      ],
      "text/plain": [
       "   patient_encounter_id  header  \\\n",
       "0               1111796    2188   \n",
       "1                942804    3350   \n",
       "2                942804   24876   \n",
       "3                942804   22507   \n",
       "4                942804       0   \n",
       "\n",
       "                                             section  \n",
       "0                                               none  \n",
       "1  Auditory hallucinations have stopped. Denies b...  \n",
       "2  continue \\r\\nWelbutrin XL 300 mg in the morini...  \n",
       "3  Expressed concern about inability to work beca...  \n",
       "4  Final Approved [DATE_1] 03:41PM by [NAME_1]\\r\\...  "
      ]
     },
     "metadata": {},
     "output_type": "display_data"
    },
    {
     "data": {
      "text/plain": [
       "(666101, 3)"
      ]
     },
     "metadata": {},
     "output_type": "display_data"
    },
    {
     "data": {
      "text/plain": [
       "Index(['patient_encounter_id', 'header', 'section'], dtype='object')"
      ]
     },
     "metadata": {},
     "output_type": "display_data"
    }
   ],
   "source": [
    "display(responSectionTextsDf.head())\n",
    "display(responSectionTextsDf.shape)\n",
    "display(responSectionTextsDf.columns)"
   ]
  },
  {
   "cell_type": "code",
   "execution_count": 8,
   "metadata": {},
   "outputs": [
    {
     "data": {
      "text/plain": [
       "<AxesSubplot:xlabel='section'>"
      ]
     },
     "execution_count": 8,
     "metadata": {},
     "output_type": "execute_result"
    },
    {
     "data": {
      "image/png": "[encoded data removed]",
      "text/plain": [
       "<Figure size 432x288 with 1 Axes>"
      ]
     },
     "metadata": {
      "needs_background": "light"
     },
     "output_type": "display_data"
    }
   ],
   "source": [
    "sectionLength = responSectionTextsDf.section.str.count(' ')\n",
    "sns.boxplot(x=sectionLength)"
   ]
  },
  {
   "cell_type": "code",
   "execution_count": 9,
   "metadata": {},
   "outputs": [
    {
     "name": "stderr",
     "output_type": "stream",
     "text": [
      "The default value of regex will change from True to False in a future version.\n",
      "The default value of regex will change from True to False in a future version.\n",
      "The default value of regex will change from True to False in a future version.\n"
     ]
    },
    {
     "data": {
      "text/html": [
       "<div>\n",
       "<style scoped>\n",
       "    .dataframe tbody tr th:only-of-type {\n",
       "        vertical-align: middle;\n",
       "    }\n",
       "\n",
       "    .dataframe tbody tr th {\n",
       "        vertical-align: top;\n",
       "    }\n",
       "\n",
       "    .dataframe thead th {\n",
       "        text-align: right;\n",
       "    }\n",
       "</style>\n",
       "<table border=\"1\" class=\"dataframe\">\n",
       "  <thead>\n",
       "    <tr style=\"text-align: right;\">\n",
       "      <th></th>\n",
       "      <th>patient_encounter_id</th>\n",
       "      <th>header</th>\n",
       "      <th>section</th>\n",
       "    </tr>\n",
       "  </thead>\n",
       "  <tbody>\n",
       "    <tr>\n",
       "      <th>0</th>\n",
       "      <td>1111796</td>\n",
       "      <td>2188</td>\n",
       "      <td>none</td>\n",
       "    </tr>\n",
       "    <tr>\n",
       "      <th>1</th>\n",
       "      <td>942804</td>\n",
       "      <td>3350</td>\n",
       "      <td>Auditory hallucinations have stopped. Denies b...</td>\n",
       "    </tr>\n",
       "    <tr>\n",
       "      <th>2</th>\n",
       "      <td>942804</td>\n",
       "      <td>24876</td>\n",
       "      <td>continue Welbutrin XL 300 mg in the morining H...</td>\n",
       "    </tr>\n",
       "    <tr>\n",
       "      <th>3</th>\n",
       "      <td>942804</td>\n",
       "      <td>22507</td>\n",
       "      <td>Expressed concern about inability to work beca...</td>\n",
       "    </tr>\n",
       "    <tr>\n",
       "      <th>4</th>\n",
       "      <td>942804</td>\n",
       "      <td>0</td>\n",
       "      <td>Final Approved [DATE_1] 03:41PM by [NAME_1] [D...</td>\n",
       "    </tr>\n",
       "  </tbody>\n",
       "</table>\n",
       "</div>"
      ],
      "text/plain": [
       "   patient_encounter_id  header  \\\n",
       "0               1111796    2188   \n",
       "1                942804    3350   \n",
       "2                942804   24876   \n",
       "3                942804   22507   \n",
       "4                942804       0   \n",
       "\n",
       "                                             section  \n",
       "0                                               none  \n",
       "1  Auditory hallucinations have stopped. Denies b...  \n",
       "2  continue Welbutrin XL 300 mg in the morining H...  \n",
       "3  Expressed concern about inability to work beca...  \n",
       "4  Final Approved [DATE_1] 03:41PM by [NAME_1] [D...  "
      ]
     },
     "metadata": {},
     "output_type": "display_data"
    },
    {
     "data": {
      "text/plain": [
       "<AxesSubplot:xlabel='section'>"
      ]
     },
     "execution_count": 9,
     "metadata": {},
     "output_type": "execute_result"
    },
    {
     "data": {
      "image/png": "[encoded data removed]",
      "text/plain": [
       "<Figure size 432x288 with 1 Axes>"
      ]
     },
     "metadata": {
      "needs_background": "light"
     },
     "output_type": "display_data"
    }
   ],
   "source": [
    "responSectionTextsDf['section']=responSectionTextsDf.section.str.replace(\n",
    "    '\\s{2,}', ' '\n",
    ")\n",
    "\n",
    "responSectionTextsDf['section']=responSectionTextsDf.section.str.replace(\n",
    "    '_{3,}', ' \\r\\n '\n",
    ")\n",
    "\n",
    "responSectionTextsDf['section']=responSectionTextsDf.section.str.replace(\n",
    "    '={3,}', ' \\r\\n '\n",
    ")\n",
    "\n",
    "responSectionTextsDf['section']=responSectionTextsDf.section.str.replace(\n",
    "    '-{3,}', ' \\r\\n '\n",
    ")\n",
    "\n",
    "responSectionTextsDf['section']=responSectionTextsDf.section.str.replace(\n",
    "    ';', ' \\r\\n '\n",
    ")\n",
    "\n",
    "responSectionTextsDf['section']=responSectionTextsDf.section.str.replace(\n",
    "    '\\r\\n', ' \\r\\n '\n",
    ")\n",
    "\n",
    "display(responSectionTextsDf.head())\n",
    "\n",
    "sectionLength = responSectionTextsDf.section.str.count(' ')\n",
    "sns.boxplot(x=sectionLength)"
   ]
  },
  {
   "cell_type": "markdown",
   "metadata": {},
   "source": [
    "# Quick Process using nltk"
   ]
  },
  {
   "cell_type": "code",
   "execution_count": 13,
   "metadata": {},
   "outputs": [
    {
     "data": {
      "application/vnd.jupyter.widget-view+json": {
       "model_id": "b9a4177af6dd4ee3a5c8f1a74ecbff9a",
       "version_major": 2,
       "version_minor": 0
      },
      "text/plain": [
       "0it [00:00, ?it/s]"
      ]
     },
     "metadata": {},
     "output_type": "display_data"
    },
    {
     "data": {
      "application/vnd.jupyter.widget-view+json": {
       "model_id": "abe3ed3dd5ff42d49091da6686804d06",
       "version_major": 2,
       "version_minor": 0
      },
      "text/plain": [
       "  0%|          | 0/666101 [00:00<?, ?it/s]"
      ]
     },
     "metadata": {},
     "output_type": "display_data"
    },
    {
     "data": {
      "text/html": [
       "<div>\n",
       "<style scoped>\n",
       "    .dataframe tbody tr th:only-of-type {\n",
       "        vertical-align: middle;\n",
       "    }\n",
       "\n",
       "    .dataframe tbody tr th {\n",
       "        vertical-align: top;\n",
       "    }\n",
       "\n",
       "    .dataframe thead th {\n",
       "        text-align: right;\n",
       "    }\n",
       "</style>\n",
       "<table border=\"1\" class=\"dataframe\">\n",
       "  <thead>\n",
       "    <tr style=\"text-align: right;\">\n",
       "      <th></th>\n",
       "      <th>patient_encounter_id</th>\n",
       "      <th>header</th>\n",
       "      <th>section</th>\n",
       "      <th>nltk_break</th>\n",
       "      <th>nltk_break_order</th>\n",
       "    </tr>\n",
       "  </thead>\n",
       "  <tbody>\n",
       "    <tr>\n",
       "      <th>0</th>\n",
       "      <td>1111796</td>\n",
       "      <td>2188</td>\n",
       "      <td>none</td>\n",
       "      <td>none</td>\n",
       "      <td>1</td>\n",
       "    </tr>\n",
       "    <tr>\n",
       "      <th>1</th>\n",
       "      <td>942804</td>\n",
       "      <td>3350</td>\n",
       "      <td>Auditory hallucinations have stopped. Denies b...</td>\n",
       "      <td>Auditory hallucinations have stopped.</td>\n",
       "      <td>1</td>\n",
       "    </tr>\n",
       "    <tr>\n",
       "      <th>1</th>\n",
       "      <td>942804</td>\n",
       "      <td>3350</td>\n",
       "      <td>Auditory hallucinations have stopped. Denies b...</td>\n",
       "      <td>Denies being paranoid.</td>\n",
       "      <td>2</td>\n",
       "    </tr>\n",
       "    <tr>\n",
       "      <th>1</th>\n",
       "      <td>942804</td>\n",
       "      <td>3350</td>\n",
       "      <td>Auditory hallucinations have stopped. Denies b...</td>\n",
       "      <td>Hygiene and grooming have improved</td>\n",
       "      <td>3</td>\n",
       "    </tr>\n",
       "    <tr>\n",
       "      <th>2</th>\n",
       "      <td>942804</td>\n",
       "      <td>24876</td>\n",
       "      <td>continue Welbutrin XL 300 mg in the morining H...</td>\n",
       "      <td>continue Welbutrin XL 300 mg in the morining H...</td>\n",
       "      <td>1</td>\n",
       "    </tr>\n",
       "  </tbody>\n",
       "</table>\n",
       "</div>"
      ],
      "text/plain": [
       "   patient_encounter_id  header  \\\n",
       "0               1111796    2188   \n",
       "1                942804    3350   \n",
       "1                942804    3350   \n",
       "1                942804    3350   \n",
       "2                942804   24876   \n",
       "\n",
       "                                             section  \\\n",
       "0                                               none   \n",
       "1  Auditory hallucinations have stopped. Denies b...   \n",
       "1  Auditory hallucinations have stopped. Denies b...   \n",
       "1  Auditory hallucinations have stopped. Denies b...   \n",
       "2  continue Welbutrin XL 300 mg in the morining H...   \n",
       "\n",
       "                                          nltk_break  nltk_break_order  \n",
       "0                                               none                 1  \n",
       "1              Auditory hallucinations have stopped.                 1  \n",
       "1                             Denies being paranoid.                 2  \n",
       "1                 Hygiene and grooming have improved                 3  \n",
       "2  continue Welbutrin XL 300 mg in the morining H...                 1  "
      ]
     },
     "metadata": {},
     "output_type": "display_data"
    },
    {
     "data": {
      "text/plain": [
       "(3457399, 5)"
      ]
     },
     "metadata": {},
     "output_type": "display_data"
    },
    {
     "data": {
      "text/plain": [
       "<AxesSubplot:ylabel='nltk_break'>"
      ]
     },
     "execution_count": 13,
     "metadata": {},
     "output_type": "execute_result"
    },
    {
     "data": {
      "image/png": "[encoded data removed]",
      "text/plain": [
       "<Figure size 432x288 with 1 Axes>"
      ]
     },
     "metadata": {
      "needs_background": "light"
     },
     "output_type": "display_data"
    }
   ],
   "source": [
    "tqdm().pandas()\n",
    "\n",
    "responSectionTextsDf['nltk_break']=responSectionTextsDf\\\n",
    "    .section.apply(str)\\\n",
    "    .progress_apply(sent_tokenize)\n",
    "    \n",
    "responSectionTextsDf = responSectionTextsDf\\\n",
    "    .explode('nltk_break')\n",
    "    \n",
    "responSectionTextsDf['nltk_break_order'] = responSectionTextsDf\\\n",
    "    .groupby(['patient_encounter_id', 'header'])\\\n",
    "    .nltk_break\\\n",
    "    .transform(lambda series: range(1,len(series)+1))\n",
    "    \n",
    "display(responSectionTextsDf.head())\n",
    "display(responSectionTextsDf.shape)\n",
    "\n",
    "sns.boxplot(\n",
    "    y=responSectionTextsDf.nltk_break.str.count(' ')\n",
    ")"
   ]
  },
  {
   "cell_type": "code",
   "execution_count": 15,
   "metadata": {},
   "outputs": [
    {
     "data": {
      "text/plain": [
       "5010"
      ]
     },
     "execution_count": 15,
     "metadata": {},
     "output_type": "execute_result"
    }
   ],
   "source": [
    "(responSectionTextsDf.nltk_break.str.count(' ') > 200).sum()"
   ]
  },
  {
   "cell_type": "code",
   "execution_count": 16,
   "metadata": {},
   "outputs": [],
   "source": [
    "responSectionTextsDf.to_csv(\n",
    "    'responSectionTextsDf_nltk_break.csv',\n",
    "    index=False\n",
    ")"
   ]
  },
  {
   "cell_type": "code",
   "execution_count": null,
   "metadata": {},
   "outputs": [],
   "source": []
  }
 ],
 "metadata": {
  "kernelspec": {
   "display_name": "Python 3.10.5 ('env_shaomin')",
   "language": "python",
   "name": "python3"
  },
  "language_info": {
   "codemirror_mode": {
    "name": "ipython",
    "version": 3
   },
   "file_extension": ".py",
   "mimetype": "text/x-python",
   "name": "python",
   "nbconvert_exporter": "python",
   "pygments_lexer": "ipython3",
   "version": "3.10.5"
  },
  "orig_nbformat": 4,
  "vscode": {
   "interpreter": {
    "hash": "aa42932ab8f2e8e39c653093fcdc8e31f24fcb361cb3b9be95e4704bb6108f80"
   }
  }
 },
 "nbformat": 4,
 "nbformat_minor": 2
}
